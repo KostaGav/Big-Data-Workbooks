{
 "cells": [
  {
   "cell_type": "markdown",
   "metadata": {},
   "source": [
    "### Setup - Initialize packages"
   ]
  },
  {
   "cell_type": "code",
   "execution_count": 1,
   "metadata": {
    "collapsed": true
   },
   "outputs": [],
   "source": [
    "import requests"
   ]
  },
  {
   "cell_type": "markdown",
   "metadata": {},
   "source": [
    "## Programming Against an API using Crossref as an Example\n",
    "\n",
    "Programming against an API involves constructing HTTP requests and parsing the data that is returned. In this simple example we will use the Crossref API. Crossref is the provider of Digital Object Identifiers (DOIs) used by many publishers to uniquely and persistably identify scholarly works. Crossref is not the only organisation to provide DOIs. In the scholarly communication space DataCite is another important provider. The Crossref API also provides metadata for DOIs provided by DataCite so is a useful source of data on many scholarly works. The documentation is available at http://api.crossref.org.\n",
    "\n",
    "The `requests` python library provides a series of convenience functions that make it easier to make HTTP calls and to process returned JSON. Requests is included within the standard IPython package and is easy to install if not available. Our first step is to import the module and set a base URL variable."
   ]
  },
  {
   "cell_type": "code",
   "execution_count": 2,
   "metadata": {
    "collapsed": true
   },
   "outputs": [],
   "source": [
    "BASE_URL = \"http://api.crossref.org/\""
   ]
  },
  {
   "cell_type": "markdown",
   "metadata": {},
   "source": [
    "A simple example is to obtain metadata for an article associated with a specific DOI. This is a straightforward call to the Crossref API, similar to what we saw earlier."
   ]
  },
  {
   "cell_type": "code",
   "execution_count": 3,
   "metadata": {
    "collapsed": false
   },
   "outputs": [
    {
     "data": {
      "text/plain": [
       "'http://api.crossref.org/works/10.1093/nar/gni170'"
      ]
     },
     "execution_count": 3,
     "metadata": {},
     "output_type": "execute_result"
    }
   ],
   "source": [
    "doi = \"10.1093/nar/gni170\"\n",
    "query = \"works/\"\n",
    "\n",
    "url = BASE_URL + query + doi\n",
    "\n",
    "response = requests.get(url)\n",
    "url"
   ]
  },
  {
   "cell_type": "code",
   "execution_count": 4,
   "metadata": {
    "collapsed": false
   },
   "outputs": [
    {
     "data": {
      "text/plain": [
       "200"
      ]
     },
     "execution_count": 4,
     "metadata": {},
     "output_type": "execute_result"
    }
   ],
   "source": [
    "response.status_code"
   ]
  },
  {
   "cell_type": "markdown",
   "metadata": {},
   "source": [
    "The response object that the requests library has created has a range of useful information including the URL called and the response code from the web server (in this case 200 which means everything is ok). We need the JSON body from the response object converted to a python dictionary."
   ]
  },
  {
   "cell_type": "code",
   "execution_count": 5,
   "metadata": {
    "collapsed": false
   },
   "outputs": [
    {
     "data": {
      "text/plain": [
       "{'message': {'DOI': '10.1093/nar/gni170',\n",
       "  'ISSN': ['0305-1048', '1362-4962'],\n",
       "  'URL': 'http://dx.doi.org/10.1093/nar/gni170',\n",
       "  'author': [{'affiliation': [], 'family': 'Whiteford', 'given': 'N.'}],\n",
       "  'container-title': ['Nucleic Acids Research'],\n",
       "  'content-domain': {'crossmark-restriction': False, 'domain': []},\n",
       "  'created': {'date-parts': [[2005, 11, 18]],\n",
       "   'date-time': '2005-11-18T23:32:52Z',\n",
       "   'timestamp': 1132356772000},\n",
       "  'deposited': {'date-parts': [[2013, 8, 8]],\n",
       "   'date-time': '2013-08-08T13:35:35Z',\n",
       "   'timestamp': 1375968935000},\n",
       "  'indexed': {'date-parts': [[2015, 12, 27]],\n",
       "   'date-time': '2015-12-27T19:56:54Z',\n",
       "   'timestamp': 1451246214168},\n",
       "  'issue': '19',\n",
       "  'issued': {'date-parts': [[2005, 10, 24]]},\n",
       "  'member': 'http://id.crossref.org/member/286',\n",
       "  'original-title': [],\n",
       "  'page': 'e171-e171',\n",
       "  'prefix': 'http://id.crossref.org/prefix/10.1093',\n",
       "  'published-print': {'date-parts': [[2005, 10, 24]]},\n",
       "  'publisher': 'Oxford University Press (OUP)',\n",
       "  'reference-count': 0,\n",
       "  'score': 1.0,\n",
       "  'short-container-title': [],\n",
       "  'short-title': [],\n",
       "  'source': 'CrossRef',\n",
       "  'subject': ['Genetics'],\n",
       "  'subtitle': [],\n",
       "  'title': ['An analysis of the feasibility of short read sequencing'],\n",
       "  'type': 'journal-article',\n",
       "  'volume': '33'},\n",
       " 'message-type': 'work',\n",
       " 'message-version': '1.0.0',\n",
       " 'status': 'ok'}"
      ]
     },
     "execution_count": 5,
     "metadata": {},
     "output_type": "execute_result"
    }
   ],
   "source": [
    "response_dict = response.json()\n",
    "response_dict"
   ]
  },
  {
   "cell_type": "markdown",
   "metadata": {},
   "source": [
    "This data object can now be processed however the user wishes using standard manipulation techniques. "
   ]
  },
  {
   "cell_type": "markdown",
   "metadata": {},
   "source": [
    "The Crossref API can do much more than simply look up article metadata of course. It is also valuable as a search resource and for cross referencing information by journal, funder, publisher and other criteria. More details can be found at the documentation link above. "
   ]
  },
  {
   "cell_type": "code",
   "execution_count": null,
   "metadata": {
    "collapsed": true
   },
   "outputs": [],
   "source": []
  }
 ],
 "metadata": {
  "kernelspec": {
   "display_name": "Python [Root]",
   "language": "python",
   "name": "Python [Root]"
  },
  "language_info": {
   "codemirror_mode": {
    "name": "ipython",
    "version": 3
   },
   "file_extension": ".py",
   "mimetype": "text/x-python",
   "name": "python",
   "nbconvert_exporter": "python",
   "pygments_lexer": "ipython3",
   "version": "3.5.2"
  }
 },
 "nbformat": 4,
 "nbformat_minor": 0
}
