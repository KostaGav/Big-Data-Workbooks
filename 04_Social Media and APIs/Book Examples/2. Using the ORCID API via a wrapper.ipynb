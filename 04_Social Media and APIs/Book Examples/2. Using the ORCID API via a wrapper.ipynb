{
 "cells": [
  {
   "cell_type": "markdown",
   "metadata": {},
   "source": [
    "### Setup - initialize packages"
   ]
  },
  {
   "cell_type": "code",
   "execution_count": 1,
   "metadata": {
    "collapsed": false
   },
   "outputs": [],
   "source": [
    "%reload_ext autoreload\n",
    "%autoreload 2\n",
    "import sys\n",
    "sys.path.append(\"C:/Users/kgavras/Big-Data-Workbooks-master/04. Social Media and APIs/modules/orcid-python\")\n",
    "import orcid"
   ]
  },
  {
   "cell_type": "markdown",
   "metadata": {},
   "source": [
    "# Using the ORCID API via a Wrapper\n",
    "\n",
    "ORCID is a service that provides unique identifiers for researchers. Researchers can claim an ORCID profile and populate it with references to their research works, funding and affiliations. ORCID provides an API for interacting with this information. For many APIs there is a convenient Python wrapper that can be used. The `orcid-python` wrapper works with the ORCID v1.2 API to make various API calls straightforward. This only works with the public ORCID API and can therefore only access publicly available data.\n",
    "\n",
    "Using the API and wrapper together provide a convenient means of getting this information. For instance, given an ORCID, it is straightforward to get profile information."
   ]
  },
  {
   "cell_type": "code",
   "execution_count": 2,
   "metadata": {
    "collapsed": false
   },
   "outputs": [
    {
     "data": {
      "text/plain": [
       "<Author Cameron Neylon, ORCID 0000-0002-0068-716X>"
      ]
     },
     "execution_count": 2,
     "metadata": {},
     "output_type": "execute_result"
    }
   ],
   "source": [
    "cn = orcid.get(\"0000-0002-0068-716X\")\n",
    "cn"
   ]
  },
  {
   "cell_type": "code",
   "execution_count": 3,
   "metadata": {
    "collapsed": false
   },
   "outputs": [
    {
     "data": {
      "text/plain": [
       "<Publication \"Principles for Open Scholarly Infrastructures-v1\">"
      ]
     },
     "execution_count": 3,
     "metadata": {},
     "output_type": "execute_result"
    }
   ],
   "source": [
    "cn.publications[0]"
   ]
  },
  {
   "cell_type": "markdown",
   "metadata": {},
   "source": [
    "The wrapper has created Python objects that make it easier to work with and manipulate the data. It is common to take the return from an API and create objects that behave as would be expected in Python. For instance, the `publications` object is a list, populated with publications. Each publication in the list has its own attributes which can then be examined individually. In this case the external IDs attribute is a list of further objects that in this case include a DOI and the ISSN of the journal this article was published in."
   ]
  },
  {
   "cell_type": "code",
   "execution_count": 4,
   "metadata": {
    "collapsed": false
   },
   "outputs": [
    {
     "data": {
      "text/plain": [
       "74"
      ]
     },
     "execution_count": 4,
     "metadata": {},
     "output_type": "execute_result"
    }
   ],
   "source": [
    "len(cn.publications)"
   ]
  },
  {
   "cell_type": "code",
   "execution_count": 5,
   "metadata": {
    "collapsed": false
   },
   "outputs": [
    {
     "data": {
      "text/plain": [
       "[<ExternalID DOI:10.6084/M9.FIGSHARE.644431>]"
      ]
     },
     "execution_count": 5,
     "metadata": {},
     "output_type": "execute_result"
    }
   ],
   "source": [
    "cn.publications[12].external_ids"
   ]
  },
  {
   "cell_type": "markdown",
   "metadata": {},
   "source": [
    "As a simple example of data processing we can iterate over the list of publications to identify those for which a DOI has been provided and then list the DOIs. In this case we can see that of the 70 publications listed in this ORCID profile (at the time of testing) 66 have DOIs."
   ]
  },
  {
   "cell_type": "code",
   "execution_count": 6,
   "metadata": {
    "collapsed": false
   },
   "outputs": [
    {
     "data": {
      "text/plain": [
       "70"
      ]
     },
     "execution_count": 6,
     "metadata": {},
     "output_type": "execute_result"
    }
   ],
   "source": [
    "exids = []\n",
    "for pub in cn.publications:\n",
    "    if pub.external_ids:\n",
    "        exids = exids + pub.external_ids\n",
    "\n",
    "DOIs = [exid.id for exid in exids if exid.type == \"DOI\"]\n",
    "        \n",
    "len(DOIs)    "
   ]
  },
  {
   "cell_type": "markdown",
   "metadata": {},
   "source": [
    "Wrappers generally make operating with an API simpler and cleaner by abstracting away the details of making HTTP requests. Achieving the same by directing interacting with the ORCID API would require constructing the appropriate URLs and parsing the returned data into a useable form. Where a wrapper is available it is generally much easier to use. However wrappers may not be actively developed and may lag the development of the API. Where possible use a wrapper that is directly supported or recommended by the API provider"
   ]
  },
  {
   "cell_type": "markdown",
   "metadata": {},
   "source": [
    "## Exercises \n",
    "\n",
    "The ORCID API also provides the ability to search for specific elements. It also provides information on other websites that relate to a researcher. The search function can be used as follows. Note that the results include any ORCID profile that includes the name (or elements of it) and as of writing only provides the first page of ten results:"
   ]
  },
  {
   "cell_type": "code",
   "execution_count": 7,
   "metadata": {
    "collapsed": false
   },
   "outputs": [
    {
     "name": "stdout",
     "output_type": "stream",
     "text": [
      "<Author Orla Neylon, ORCID 0000-0001-9655-0944>\n",
      "<Author Cameron Neylon, ORCID 0000-0002-0068-716X>\n",
      "<Author Erin Neylon, ORCID 0000-0001-6361-7727>\n",
      "<Author Karen Neylon, ORCID 0000-0002-5673-0948>\n",
      "<Author John Chodacki, ORCID 0000-0002-7378-2408>\n",
      "<Author ARSEV UMUR AYDINOGLU, ORCID 0000-0001-8857-6001>\n",
      "<Author Cameron Keating, ORCID 0000-0003-1468-8371>\n",
      "<Author David Cameron, ORCID 0000-0003-3700-5625>\n",
      "<Author Eliomar Cameron, ORCID 0000-0002-4321-4653>\n",
      "<Author Cameron Gray, ORCID 0000-0002-2769-1273>\n"
     ]
    }
   ],
   "source": [
    "cn_search = orcid.search(\"Cameron+Neylon\")\n",
    "for result in cn_search:\n",
    "    print result"
   ]
  },
  {
   "cell_type": "code",
   "execution_count": 8,
   "metadata": {
    "collapsed": false
   },
   "outputs": [
    {
     "name": "stdout",
     "output_type": "stream",
     "text": [
      "<Author Jenna Lang, ORCID 0000-0002-4871-4497>\n",
      "<Author Srijak Bhatnagar, ORCID 0000-0003-0240-2655>\n",
      "<Author Timothy Eisen, ORCID 0000-0002-4812-4171>\n",
      "<Author Rebecca Eisen, ORCID 0000-0001-5942-528X>\n",
      "<Author Kobi Eisen, ORCID 0000-0001-6011-4761>\n",
      "<Author Jonathan A. Eisen, ORCID 0000-0002-0159-2197>\n",
      "<Author Timothy Read, ORCID 0000-0001-8966-9680>\n",
      "<Author Moris S. Eisen, ORCID 0000-0001-8915-0256>\n",
      "<Author Thomas Sharpton, ORCID 0000-0002-5996-7764>\n",
      "<Author Jonathan Smith, ORCID 0000-0002-2075-0744>\n"
     ]
    }
   ],
   "source": [
    "twitter_search = orcid.search(\"Jonathan Eisen\") # this is my twitter handle, which is registered with my ORCID profile\n",
    "\n",
    "for result in twitter_search:\n",
    "    print unicode(result)"
   ]
  },
  {
   "cell_type": "code",
   "execution_count": null,
   "metadata": {
    "collapsed": true
   },
   "outputs": [],
   "source": []
  },
  {
   "cell_type": "code",
   "execution_count": null,
   "metadata": {
    "collapsed": true
   },
   "outputs": [],
   "source": []
  }
 ],
 "metadata": {
  "anaconda-cloud": {},
  "kernelspec": {
   "display_name": "Python [py27]",
   "language": "python",
   "name": "Python [py27]"
  },
  "language_info": {
   "codemirror_mode": {
    "name": "ipython",
    "version": 2
   },
   "file_extension": ".py",
   "mimetype": "text/x-python",
   "name": "python",
   "nbconvert_exporter": "python",
   "pygments_lexer": "ipython2",
   "version": "2.7.12"
  }
 },
 "nbformat": 4,
 "nbformat_minor": 0
}
