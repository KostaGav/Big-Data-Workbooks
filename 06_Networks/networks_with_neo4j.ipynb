{
 "cells": [
  {
   "cell_type": "markdown",
   "metadata": {},
   "source": [
    "# Networks and Neo4j"
   ]
  },
  {
   "cell_type": "markdown",
   "metadata": {},
   "source": [
    "## Table of Contents\n",
    "\n",
    "- [Introduction](#Introduction)\n",
    "- [Setup](#Setup)\n",
    "\n",
    "    - [Connecting to the Neo4j Database](#Connecting-to-the-Neo4j-Database)\n",
    "    - [Testing our connection](#Testing-our-connection)\n",
    "    \n",
    "- [Brief Overview of Neo4j and Cypher](#Brief-Overview-of-Neo4j-and-Cypher)\n",
    "\n",
    "    - [How Neo4j Works](#How-Neo4j-Works)\n",
    "    - [Components of a Simple Cypher Query](#Components-of-a-Simple-Cypher-Query)\n",
    "    - [Cypher Query Examples](#Cypher-Query-Examples)\n",
    "    \n",
    "- [Using Python to Automate Cypher Tasks](#Using-Python-to-Automate-Cypher-Tasks)\n",
    "\n",
    "    - [Load in Student Nodes](#Load-in-Student-Nodes)\n",
    "    - [Create Worked on Relationships with Awards](#Create-Worked-on-Relationships-with-Awards)\n",
    "    - [Create \"Worked With\" Relationships Between Students and Staff](#Create-%22Worked-With%22-Relationships-Between-Students-and-Staff)\n",
    "    \n",
    "- [Working with Graph Data in `networkx`](#Working-with-Graph-Data-in-networkx)\n",
    "\n",
    "    - [`networkx` - Plotting Network Graphs](#networkx---Plotting-Network-Graphs)\n",
    "    - [`networkx` - Network Analysis](#networkx---Network-Analysis)\n",
    "    \n",
    "        - [Network Analysis Basics](#Network-Analysis-Basics)\n",
    "        - [Initializing Example Data](#Initializing-Example-Data)\n",
    "        - [Metrics - Degree](#Metrics---Degree)\n",
    "        - [Metrics - Centrality](#Metrics---Centrality)\n",
    "        - [Metrics - Betweenness](#Metrics---Betweenness)\n",
    "        - [Cliques](#Cliques)"
   ]
  },
  {
   "cell_type": "markdown",
   "metadata": {},
   "source": [
    "## Introduction\n",
    "\n",
    "- back to [Table of Contents](#Table-of-Contents)\n",
    "\n",
    "This chapter will go over the basics on how to connect to a neo4j database, query the database, and analyse data.  This file, `networks_with_neo4j.ipynb`, is the first notebook you should run.  Then, you can open and work through an exercise involving neo4j in the notebook `networks_exercise.ipynb`.\n",
    "\n",
    "Before you begin this lesson:\n",
    "\n",
    "* Read through and make sure you've followed all the steps in the file README.md inside this exercise's folder.\n",
    "* Read though the \"Installing neo4j\" Guide (either the PDF or the Word Document).\n",
    "* Start your neo4j server using the \"Ne04j Community Edition\" application on your computer (you can confirm it is running by opening [http://localhost:7474/](http://localhost:7474/) - if neo4j is running, you'll either get the \"$\" prompt or be asked to log in.  If neo4j is not running, you'll get an error message indicating the page cannot load)."
   ]
  },
  {
   "cell_type": "markdown",
   "metadata": {},
   "source": [
    "## Setup\n",
    "\n",
    "- back to [Table of Contents](#Table-of-Contents)\n",
    "\n",
    "First, we'll import python packages needed for the code in this notebook.  If you stop in the middle of this notebook, close it, then come back later to continue, make sure to run these imports each time you start up the notebook again."
   ]
  },
  {
   "cell_type": "code",
   "execution_count": 1,
   "metadata": {
    "collapsed": false
   },
   "outputs": [
    {
     "name": "stdout",
     "output_type": "stream",
     "text": [
      "--COMPLETE-- at 2016-09-29 11:58:52.376205\n"
     ]
    }
   ],
   "source": [
    "# Imports \n",
    "import sys\n",
    "\n",
    "# import six for python 2 and 3 support.\n",
    "import six\n",
    "\n",
    "# py2neo - Python package for interacting with neo4j.\n",
    "import py2neo\n",
    "\n",
    "import pymysql\n",
    "import numpy\n",
    "import pprint\n",
    "import pandas\n",
    "import networkx\n",
    "\n",
    "# Allows plots to be showed inline \n",
    "import matplotlib\n",
    "%matplotlib inline\n",
    "\n",
    "import datetime\n",
    "print( \"--COMPLETE-- at \" + str( datetime.datetime.now() ) )"
   ]
  },
  {
   "cell_type": "markdown",
   "metadata": {
    "collapsed": true
   },
   "source": [
    "### Connecting to the Neo4j Database \n",
    "\n",
    "- back to [Table of Contents](#Table-of-Contents)\n",
    "\n",
    "To connect to the Neo4j Database we will be using the `py2neo` Python package ( [http://py2neo.org](http://py2neo.org) ).\n",
    "\n",
    "In the cell below we will begin by using `py2neo` to create a connection to our neo4j database. "
   ]
  },
  {
   "cell_type": "code",
   "execution_count": 8,
   "metadata": {
    "collapsed": false,
    "scrolled": false
   },
   "outputs": [
    {
     "name": "stdout",
     "output_type": "stream",
     "text": [
      "Connection to Neo4j at <Graph uri='http://localhost:7474/db/data/'> created at 2016-09-29 12:01:18.429027\n"
     ]
    }
   ],
   "source": [
    "# Set up connection to Neo4j local Database \n",
    "# You will need to authenticate your connection, use the next line as an example \n",
    "# authenticate(\"localhost:7474\", \"<YOUR USENAME HERE>, Default is: neo4j\", \"<YOUR_PASSWORD_HERE>\")\n",
    "\n",
    "# set up authentication parameters\n",
    "database_host = \"localhost\"\n",
    "database_port = \"7474\"\n",
    "database_username = \"neo4j\"\n",
    "database_password = \"Leonardo1991\"\n",
    "\n",
    "# authenticate with \"py2neo.authenticate()\" function.\n",
    "py2neo.authenticate( database_host + \":\" + database_port, database_username, database_password )\n",
    "\n",
    "# Create a variable for our graph and print our connection infomation\n",
    "graph_db = py2neo.Graph()\n",
    "print( \"Connection to Neo4j at \" + str( graph_db ) + \" created at \" + str( datetime.datetime.now() ) )\n"
   ]
  },
  {
   "cell_type": "markdown",
   "metadata": {},
   "source": [
    "### Testing our connection\n",
    "\n",
    "- back to [Table of Contents](#Table-of-Contents)\n",
    "\n",
    "To extract data from our database, we will pass cypher commands Neo4j using the `data()` method on an instance of py2neo's Graph object (more details on this follow).\n",
    "\n",
    "More details on this follow.  First, however, to test our connection, we'll use the `data()` method to run a basic cypher query that asks Neo4j to find all nodes:\n",
    "\n",
    "    MATCH (n)\n",
    "\n",
    "but return only one:\n",
    "\n",
    "    RETURN n limit 1;"
   ]
  },
  {
   "cell_type": "code",
   "execution_count": 9,
   "metadata": {
    "collapsed": false
   },
   "outputs": [
    {
     "data": {
      "text/plain": [
       "[{'node': (f34bdfa:Employee {employeeid:\"90014540\",position:\"FACULTY\"})}]"
      ]
     },
     "execution_count": 9,
     "metadata": {},
     "output_type": "execute_result"
    }
   ],
   "source": [
    "# The syntax below translates to,\n",
    "#'Match (Find) any node, lets call it \"node\", and show me its data. Limit the results to 1'\n",
    "\n",
    "graph_db.data( \"MATCH ( node ) RETURN node limit 1;\" )"
   ]
  },
  {
   "cell_type": "markdown",
   "metadata": {},
   "source": [
    "## Brief Overview of Neo4j and Cypher\n",
    "\n",
    "- back to [Table of Contents](#Table-of-Contents)\n",
    "\n",
    "### How Neo4j Works\n",
    "\n",
    "- back to [Table of Contents](#Table-of-Contents)\n",
    "\n",
    "When you think of data, you probably imagine an excel table where each row is an individual observation or data point. \n",
    "\n",
    "For example:\n",
    "\n",
    "|name | age | employee_id|\n",
    "|-----|-----|------------|\n",
    "|Joe  |  34 |   12345    |\n",
    "|Ann  |  54 |   12346    |\n",
    "    \n",
    "In Neo4j, each of these rows is stored as and referred to as a Node.  Neo4j nodes can contain all the same information as a tabular representation of data like a spreadsheet or a traditional database table, but they are structured a little differently.\n",
    "\n",
    "A traditional database table will have a set number of columns, and each row in the table will have the same set of columns.  Different types of data are stored in different tables, and rows within a given table can not have different sets of values.\n",
    "\n",
    "In Neo4j (and in other \"NoSQL\" databases that use a record model rather than a relational table model), all things in the system are placed in a single \"Node\" database, and each can have any properties you want to assign to them.\n",
    "\n",
    "So, where a relational database might have separate tables for students and employees, for example, in Neo4j, students and employees are both stored as nodes, and the properties of the node are set as is appropriate for the type of node (so employees have name, age, and an employee ID - just like in the example table above - and students might have name, age, major, expected graduation date, and student ID).\n",
    "\n",
    "You can (and should!) have types of nodes that all are expected to have the same set of properties, but Neo4j and other NoSQL databases do not formally require this like a relational database does when you place data into a table.\n",
    "\n",
    "For example, when you run the following query using py2neo:\n",
    "\n",
    "    MATCH ( n ) RETURN n LIMIT 1;\n",
    "    \n",
    "You get back the following:\n",
    "\n",
    "    [{'n': (b63c693:Employee {employeeid:\"90014540\",position:\"FACULTY\"})}]\n",
    "    \n",
    "OR, formatted more politely:\n",
    "\n",
    "    [\n",
    "        {\n",
    "            'n': (\n",
    "                b63c693 : Employee {\n",
    "                    employeeid:\"90014540\",\n",
    "                    position:\"FACULTY\"\n",
    "                }\n",
    "            )\n",
    "            \n",
    "        }\n",
    "    ]\n",
    "    \n",
    "This structure uses Python (and JSON) conventions for lists and dictionaries to tell you that it returns:\n",
    "\n",
    "- a list ( the outer \"[]\" )\n",
    "- of dictionaries ( the \"{}\" inside the list )\n",
    "- each entry of which contains a mapping of one of the sets of nodes you've requested in RETURN (in this case, 'n')\n",
    "- to a static list (inside the parentheses - \"()\") of the matching nodes that maps IDs (example: `b63c693`) to node properties (`Employee {employeeid:\"90014540\",position:\"FACULTY\"}`).\n",
    "\n",
    "The information about an employee is still there (well, other than the name since we've removed it from our data set...), but instead of storing each peice of information on an employee in a pre-defined column, each employee's information is stored as **properties** on a node, and the type of node is captured as a **label**, *Employee*, associated with the node that identify it as being of type \"Employee\"."
   ]
  },
  {
   "cell_type": "markdown",
   "metadata": {},
   "source": [
    "### Components of a Simple Cypher Query\n",
    "\n",
    "- back to [Table of Contents](#Table-of-Contents)\n",
    "\n",
    "Neo4j uses the Cypher Query Language to get information out of the Database.  The basic syntax is \"`MATCH ( n ) RETURN n LIMIT 1;`\":\n",
    "\n",
    "+ MATCH ( n )\n",
    "\n",
    "    - The `MATCH` clause is essentially the same as the SELECT clause in SQL.  It tells the Cypher query that you are filtering, and the information in parentheses defines where the query will be looking.\n",
    "    - `( n )` tells the Cypher Query to filter and retrieve matches from all nodes.  In `MATCH`, the letter you place here is a name you'll use in subsequent parts of the query to refer to matching nodes (like the `AS` keyword in SQL).  It can be any name, does not need to be `n`.\n",
    "    - Simply placing a name here means it will look at all nodes, regardless of type/label.  To filter on a label, append the label after the name, separated by a colon.  So, for nodes of type \"Employee\", your `MATCH` would look something like: `MATCH ( employees : Employee )`\n",
    "    - You can place more than one type of node inside the parentheses of a `MATCH` clause.\n",
    "\n",
    "+ RETURN n\n",
    "\n",
    "    - The `RETURN` clause tells the Cypher query what information should be returned for matching nodes.\n",
    "    - If you just return the name of the node specified in `MATCH ()`, then it will return all properties for each node.\n",
    "    - You can also specify the names of specific properties of nodes ( \"`RETURN n.employeeid, n.position`\", for example).\n",
    "    - A `RETURN` clause is needed in every query.\n",
    "\n",
    "+ LIMIT 1     \n",
    "\n",
    "    - LIMIT lets you request a subset of all matches be returned (in this case, just 1).  This does not imply order, so you might get a different node each time you run this query.\n",
    "    - This is similar to the LIMIT clause in an SQL statement.\n",
    "    \n",
    "+ all Cypher queries end with a semi-colon ( \";\" ).\n",
    "\n",
    "The following query will return 20 nodes from the database:  \n",
    "\n",
    "    graph_db.data( \"MATCH ( node ) RETURN node LIMIT 20;\" )\n",
    "\n",
    "If I wanted to query just nodes of type \"Award\" (where types are signified by labels associated with nodes), I would add a filter for the label \"Award\" inside the MATCH clause ( `MATCH ( n : Award )` ):  \n",
    "\n",
    "    graph_db.data( \"MATCH ( awards : Award ) RETURN awards LIMIT 20;\" )"
   ]
  },
  {
   "cell_type": "code",
   "execution_count": 10,
   "metadata": {
    "collapsed": false
   },
   "outputs": [
    {
     "data": {
      "text/plain": [
       "[{'awards.award_num': 'aw1000'},\n",
       " {'awards.award_num': 'aw1001'},\n",
       " {'awards.award_num': 'aw1002'},\n",
       " {'awards.award_num': 'aw1003'},\n",
       " {'awards.award_num': 'aw1004'},\n",
       " {'awards.award_num': 'aw1005'},\n",
       " {'awards.award_num': 'aw1006'},\n",
       " {'awards.award_num': 'aw1007'},\n",
       " {'awards.award_num': 'aw1008'},\n",
       " {'awards.award_num': 'aw1009'},\n",
       " {'awards.award_num': 'aw1010'},\n",
       " {'awards.award_num': 'aw1011'},\n",
       " {'awards.award_num': 'aw1012'},\n",
       " {'awards.award_num': 'aw1013'},\n",
       " {'awards.award_num': 'aw1014'},\n",
       " {'awards.award_num': 'aw1015'},\n",
       " {'awards.award_num': 'aw1016'},\n",
       " {'awards.award_num': 'aw1017'},\n",
       " {'awards.award_num': 'aw1018'},\n",
       " {'awards.award_num': 'aw1019'}]"
      ]
     },
     "execution_count": 10,
     "metadata": {},
     "output_type": "execute_result"
    }
   ],
   "source": [
    "# You can use this cell to Test the Cypher Queries.  For example, let's try to:\n",
    "# - Match (Find) any nodes that are of type Award\n",
    "# - and show the award number (award_num) for each of the nodes returned,\n",
    "# - limiting the number of results to 20.\n",
    "\n",
    "graph_db.data( \"MATCH ( awards : Award ) RETURN awards.award_num LIMIT 20;\" )"
   ]
  },
  {
   "cell_type": "markdown",
   "metadata": {},
   "source": [
    "### Cypher Query Examples \n",
    "\n",
    "- back to [Table of Contents](#Table-of-Contents)\n",
    "\n",
    "The below are some examples of different cypher commands executed using py2neo.\n",
    "\n",
    "Note: The object returned by Py2neo is a neted list of dictonaries where each dictonary represents a single node."
   ]
  },
  {
   "cell_type": "code",
   "execution_count": 11,
   "metadata": {
    "collapsed": false
   },
   "outputs": [
    {
     "name": "stdout",
     "output_type": "stream",
     "text": [
      "[{'e.employeeid': '90014540'},\n",
      " {'e.employeeid': '90026679'},\n",
      " {'e.employeeid': '90017693'},\n",
      " {'e.employeeid': '90028696'},\n",
      " {'e.employeeid': '90013819'},\n",
      " {'e.employeeid': '90001118'},\n",
      " {'e.employeeid': '90001300'},\n",
      " {'e.employeeid': '90023086'},\n",
      " {'e.employeeid': '90017074'},\n",
      " {'e.employeeid': '90025003'},\n",
      " {'e.employeeid': '90000321'},\n",
      " {'e.employeeid': '90001779'},\n",
      " {'e.employeeid': '90012327'},\n",
      " {'e.employeeid': '6663'},\n",
      " {'e.employeeid': '90028695'},\n",
      " {'e.employeeid': '90013011'},\n",
      " {'e.employeeid': '90004139'},\n",
      " {'e.employeeid': '90002533'},\n",
      " {'e.employeeid': '90022882'},\n",
      " {'e.employeeid': '90027179'}]\n"
     ]
    }
   ],
   "source": [
    "# Collect 20 Employee Nodes \n",
    "\n",
    "# The syntax below translates to, \n",
    "#'Match(Find) any nodes of type Employee \n",
    "# then show me the employee ID (employeeid) of the employee nodes. Limit the results to 20'\n",
    "node_query_single =  graph_db.data( \"MATCH ( e : Employee ) RETURN e.employeeid LIMIT 20;\" )\n",
    "\n",
    "pprint.pprint( node_query_single )"
   ]
  },
  {
   "cell_type": "code",
   "execution_count": 12,
   "metadata": {
    "collapsed": false
   },
   "outputs": [
    {
     "name": "stdout",
     "output_type": "stream",
     "text": [
      "[{'a.award_num': 'aw1000', 'e.employeeid': '90014540'},\n",
      " {'a.award_num': 'aw1001', 'e.employeeid': '90014540'},\n",
      " {'a.award_num': 'aw1002', 'e.employeeid': '90014540'},\n",
      " {'a.award_num': 'aw1003', 'e.employeeid': '90014540'},\n",
      " {'a.award_num': 'aw1004', 'e.employeeid': '90014540'},\n",
      " {'a.award_num': 'aw1005', 'e.employeeid': '90014540'},\n",
      " {'a.award_num': 'aw1006', 'e.employeeid': '90014540'},\n",
      " {'a.award_num': 'aw1007', 'e.employeeid': '90014540'},\n",
      " {'a.award_num': 'aw1008', 'e.employeeid': '90014540'},\n",
      " {'a.award_num': 'aw1009', 'e.employeeid': '90014540'},\n",
      " {'a.award_num': 'aw1010', 'e.employeeid': '90014540'},\n",
      " {'a.award_num': 'aw1011', 'e.employeeid': '90014540'},\n",
      " {'a.award_num': 'aw1012', 'e.employeeid': '90014540'},\n",
      " {'a.award_num': 'aw1013', 'e.employeeid': '90014540'},\n",
      " {'a.award_num': 'aw1014', 'e.employeeid': '90014540'},\n",
      " {'a.award_num': 'aw1015', 'e.employeeid': '90014540'},\n",
      " {'a.award_num': 'aw1016', 'e.employeeid': '90014540'},\n",
      " {'a.award_num': 'aw1017', 'e.employeeid': '90014540'},\n",
      " {'a.award_num': 'aw1018', 'e.employeeid': '90014540'},\n",
      " {'a.award_num': 'aw1019', 'e.employeeid': '90014540'}]\n"
     ]
    }
   ],
   "source": [
    "# Collect 20 Award Nodes and 20 employee Nodes \n",
    "\n",
    "# The syntax below translates to, \n",
    "#'Match (Find) any nodes that are of type Award and Match(Find) any nodes of type Employee \n",
    "# then show me the award number (award_num) of the award nodes \n",
    "# and the employee ID (employeeid) of the employee nodes. Limit the results to 20'\n",
    "node_query_multiple =  graph_db.data(\"MATCH ( a : Award ), ( e : Employee ) RETURN a.award_num, e.employeeid LIMIT 20;\" )\n",
    "\n",
    "pprint.pprint(node_query_multiple )"
   ]
  },
  {
   "cell_type": "code",
   "execution_count": 13,
   "metadata": {
    "collapsed": false
   },
   "outputs": [
    {
     "name": "stdout",
     "output_type": "stream",
     "text": [
      "[{'a.award_num': 'aw1000', 'e.employeeid': '90014540', 'type(r)': 'WORKED_ON'},\n",
      " {'a.award_num': 'aw1001', 'e.employeeid': '90026679', 'type(r)': 'WORKED_ON'},\n",
      " {'a.award_num': 'aw1002', 'e.employeeid': '90017693', 'type(r)': 'WORKED_ON'},\n",
      " {'a.award_num': 'aw1003', 'e.employeeid': '90028696', 'type(r)': 'WORKED_ON'},\n",
      " {'a.award_num': 'aw1004', 'e.employeeid': '90013819', 'type(r)': 'WORKED_ON'},\n",
      " {'a.award_num': 'aw1005', 'e.employeeid': '90001118', 'type(r)': 'WORKED_ON'},\n",
      " {'a.award_num': 'aw1006', 'e.employeeid': '90001300', 'type(r)': 'WORKED_ON'},\n",
      " {'a.award_num': 'aw1007', 'e.employeeid': '90023086', 'type(r)': 'WORKED_ON'},\n",
      " {'a.award_num': 'aw1145', 'e.employeeid': '90023086', 'type(r)': 'WORKED_ON'},\n",
      " {'a.award_num': 'aw1476', 'e.employeeid': '90023086', 'type(r)': 'WORKED_ON'},\n",
      " {'a.award_num': 'aw1008', 'e.employeeid': '90017074', 'type(r)': 'WORKED_ON'},\n",
      " {'a.award_num': 'aw1146', 'e.employeeid': '90017074', 'type(r)': 'WORKED_ON'},\n",
      " {'a.award_num': 'aw1477', 'e.employeeid': '90017074', 'type(r)': 'WORKED_ON'},\n",
      " {'a.award_num': 'aw1009', 'e.employeeid': '90025003', 'type(r)': 'WORKED_ON'},\n",
      " {'a.award_num': 'aw1147', 'e.employeeid': '90025003', 'type(r)': 'WORKED_ON'},\n",
      " {'a.award_num': 'aw1478', 'e.employeeid': '90025003', 'type(r)': 'WORKED_ON'},\n",
      " {'a.award_num': 'aw1010', 'e.employeeid': '90000321', 'type(r)': 'WORKED_ON'},\n",
      " {'a.award_num': 'aw1148', 'e.employeeid': '90000321', 'type(r)': 'WORKED_ON'},\n",
      " {'a.award_num': 'aw1479', 'e.employeeid': '90000321', 'type(r)': 'WORKED_ON'},\n",
      " {'a.award_num': 'aw1011', 'e.employeeid': '90001779', 'type(r)': 'WORKED_ON'}]\n"
     ]
    }
   ],
   "source": [
    "# Return 20 relationships where an Employee worked on an Award\n",
    "\n",
    "# The syntax below translates to, \n",
    "#'Match (Find) any instances of a node of type Award connected to a node of type employee. \n",
    "# For each relationship found, return the award number and the employee id of the nodes in that relationship. \n",
    "# also return the relationship type, 'WORKED_ON'\n",
    "#Limit the results to 20'\n",
    "relationsip_query = graph_db.data(\"MATCH (a:Award) <-[r:WORKED_ON]- (e:Employee) RETURN a.award_num,e.employeeid,type(r) LIMIT 20\")\n",
    "\n",
    "pprint.pprint( relationsip_query )"
   ]
  },
  {
   "cell_type": "code",
   "execution_count": 14,
   "metadata": {
    "collapsed": false
   },
   "outputs": [
    {
     "name": "stdout",
     "output_type": "stream",
     "text": [
      "[{'a.award_num': 'aw1003',\n",
      "  'e1.employeeid': '90000919',\n",
      "  'e2.employeeid': '90028696'},\n",
      " {'a.award_num': 'aw1004',\n",
      "  'e1.employeeid': '90024693',\n",
      "  'e2.employeeid': '90013819'},\n",
      " {'a.award_num': 'aw1005',\n",
      "  'e1.employeeid': '90001652',\n",
      "  'e2.employeeid': '90001118'},\n",
      " {'a.award_num': 'aw1006',\n",
      "  'e1.employeeid': '90025754',\n",
      "  'e2.employeeid': '90001300'},\n",
      " {'a.award_num': 'aw1007',\n",
      "  'e1.employeeid': '90004472',\n",
      "  'e2.employeeid': '90023086'},\n",
      " {'a.award_num': 'aw1007',\n",
      "  'e1.employeeid': '90026898',\n",
      "  'e2.employeeid': '90023086'},\n",
      " {'a.award_num': 'aw1007',\n",
      "  'e1.employeeid': '90022371',\n",
      "  'e2.employeeid': '90023086'},\n",
      " {'a.award_num': 'aw1145',\n",
      "  'e1.employeeid': '90029620',\n",
      "  'e2.employeeid': '90023086'},\n",
      " {'a.award_num': 'aw1008',\n",
      "  'e1.employeeid': '90028781',\n",
      "  'e2.employeeid': '90017074'},\n",
      " {'a.award_num': 'aw1008',\n",
      "  'e1.employeeid': '90004472',\n",
      "  'e2.employeeid': '90017074'},\n",
      " {'a.award_num': 'aw1008',\n",
      "  'e1.employeeid': '90024665',\n",
      "  'e2.employeeid': '90017074'},\n",
      " {'a.award_num': 'aw1146',\n",
      "  'e1.employeeid': '90026012',\n",
      "  'e2.employeeid': '90017074'},\n",
      " {'a.award_num': 'aw1009',\n",
      "  'e1.employeeid': '98101941',\n",
      "  'e2.employeeid': '90025003'},\n",
      " {'a.award_num': 'aw1009',\n",
      "  'e1.employeeid': '90028781',\n",
      "  'e2.employeeid': '90025003'},\n",
      " {'a.award_num': 'aw1009',\n",
      "  'e1.employeeid': '90002437',\n",
      "  'e2.employeeid': '90025003'},\n",
      " {'a.award_num': 'aw1147',\n",
      "  'e1.employeeid': '90021622',\n",
      "  'e2.employeeid': '90025003'},\n",
      " {'a.award_num': 'aw1010',\n",
      "  'e1.employeeid': '90001461',\n",
      "  'e2.employeeid': '90000321'},\n",
      " {'a.award_num': 'aw1010',\n",
      "  'e1.employeeid': '98101941',\n",
      "  'e2.employeeid': '90000321'},\n",
      " {'a.award_num': 'aw1010',\n",
      "  'e1.employeeid': '90019735',\n",
      "  'e2.employeeid': '90000321'},\n",
      " {'a.award_num': 'aw1148',\n",
      "  'e1.employeeid': '90023237',\n",
      "  'e2.employeeid': '90000321'}]\n"
     ]
    }
   ],
   "source": [
    "# Pattern Query \n",
    "\n",
    "# Retrun 20 instances of the pattern where two employees worked on the same award. Return only the employeeid of each employee  \n",
    "\n",
    "# The syntax below translates to, \n",
    "# 'Match (Find) any instances of two nodes of type employee having a relationship with a node of type award.\n",
    "# Return the employeeid of each of the employee nodes in that relationship.\n",
    "# Also, return the award number of the award in the relationship.  \n",
    "# Limit the results to 20'\n",
    "pattern_query = graph_db.data(\"MATCH (e1:Employee) --> (a:Award) <-- (e2:Employee) RETURN e1.employeeid, e2.employeeid, a.award_num LIMIT 20\")\n",
    "\n",
    "pprint.pprint( pattern_query )"
   ]
  },
  {
   "cell_type": "markdown",
   "metadata": {},
   "source": [
    "## Using Python to Automate Cypher Tasks \n",
    "\n",
    "- back to [Table of Contents](#Table-of-Contents)\n",
    "\n",
    "An advantage of using python to interface with neo4j is that you can send commands to neo4j in a saved and reproducable manner. In theory, all the work we did copying and pasting commands into neo4j in the instalation chapter can be replaced with python commands.\n",
    "\n",
    "To demonstrate this we will add some new Nodes and Relationships to our graph.\n",
    "\n",
    "Roke College prides itself on providing research opportunities for its Students. Students are often employed by the university to provide research assistance to faculty members on the awards they work on. \n",
    "\n",
    "To fully add the Students to the database we will need to:\n",
    "\n",
    "1. Create a variable setting the location of our files. This is the directory\n",
    "    where your student_data.csv and award_data.csv files are saved.  By default, we place our data for import in the `import` directory inside our Neo4j database file, so we leave this variable empty.\n",
    "2. Load in the student nodes via a csv file \n",
    "3. Create a WORKED_ON relationship between the students and the awards on which they work\n",
    "4. Createa WORKED_WITH relationship between students and their peers who worked on the same awards \n",
    "    \n",
    "\n",
    "_NOTE:_\n",
    "\n",
    "_You may notice that here we are using the MERGE command instead of the CREATE command to create relationships. This is done to prevent duplicate nodes and relationships from being created. A CREATE command will create a new node or relationship regardless of whether that entitiy already exsists. The MERGE command will create that node or relationship only if it does not already exist._\n"
   ]
  },
  {
   "cell_type": "markdown",
   "metadata": {},
   "source": [
    "### Load in Student Nodes\n",
    "\n",
    "- back to [Table of Contents](#Table-of-Contents)"
   ]
  },
  {
   "cell_type": "code",
   "execution_count": 15,
   "metadata": {
    "collapsed": false
   },
   "outputs": [
    {
     "name": "stdout",
     "output_type": "stream",
     "text": [
      "--COMPLETE-- at 2016-09-29 12:02:02.693010\n"
     ]
    }
   ],
   "source": [
    "# Store data directory path for re-use\n",
    "data_directory_path = \"\"\n",
    "\n",
    "# The syntax below translates to, \n",
    "#'Load the file at the location <File Path>.\n",
    "# For each row in that data, create a node of type Student with the properties employeeid and position\n",
    "\n",
    "# Build the Cypher Query string.\n",
    "cypher_string = '''USING PERIODIC COMMIT\n",
    "LOAD CSV WITH HEADERS FROM \\\"file://'''\n",
    "cypher_string += data_directory_path\n",
    "cypher_string += '''/student_data.csv\\\"\n",
    "AS row CREATE (:Student {employeeid: row.employeeid, position: row.occupation_orig});'''\n",
    "\n",
    "# run the Cypher Query.\n",
    "graph_db.data( cypher_string )\n",
    "\n",
    "print( \"--COMPLETE-- at \" + str( datetime.datetime.now() ) )"
   ]
  },
  {
   "cell_type": "markdown",
   "metadata": {},
   "source": [
    "### Create Worked on Relationships with Awards\n",
    "\n",
    "- back to [Table of Contents](#Table-of-Contents)"
   ]
  },
  {
   "cell_type": "code",
   "execution_count": 16,
   "metadata": {
    "collapsed": false
   },
   "outputs": [
    {
     "name": "stdout",
     "output_type": "stream",
     "text": [
      "--COMPLETE-- at 2016-09-29 12:02:07.168163\n"
     ]
    }
   ],
   "source": [
    "# The syntax below translates to, \n",
    "#'Load the file at the location <File Path>.\n",
    "# For each row in the file, find the Award node and Student node that corespond to the \n",
    "# arard_num and employeeid in that row.\n",
    "# if there is not already a WORKED_ON relationship between the two, create one. \n",
    "\n",
    "# Build the Cypher Query string.\n",
    "cypher_string = '''USING PERIODIC COMMIT\n",
    "LOAD CSV WITH HEADERS FROM \\\"file://'''\n",
    "cypher_string += data_directory_path\n",
    "cypher_string += '''/award_data.csv\" AS row\n",
    "MATCH (a:Award {award_num: row.uniqueawardnumber})\n",
    "MATCH (s:Student {employeeid: row.employeeid})\n",
    "MERGE (s)-[r:WORKED_ON]->(a);'''\n",
    "\n",
    "# run the Cypher Query.\n",
    "graph_db.data( cypher_string )\n",
    "\n",
    "print( \"--COMPLETE-- at \" + str( datetime.datetime.now() ) )"
   ]
  },
  {
   "cell_type": "markdown",
   "metadata": {},
   "source": [
    "### Create \"Worked With\" Relationships Between Students and Staff\n",
    "\n",
    "- back to [Table of Contents](#Table-of-Contents)"
   ]
  },
  {
   "cell_type": "code",
   "execution_count": 17,
   "metadata": {
    "collapsed": false
   },
   "outputs": [
    {
     "name": "stdout",
     "output_type": "stream",
     "text": [
      "--COMPLETE-- at 2016-09-29 12:02:10.540948\n"
     ]
    }
   ],
   "source": [
    "# The syntax below translates to, \n",
    "# Find the instances where two nodes have a WORKED_ON relationship with an Award node,\n",
    "# if there is not a 'WORKED_WITH' relationship between the two, create one. \n",
    "\n",
    "# Build the Cypher query string\n",
    "cypher_string = '''MATCH (n1)-[:WORKED_ON]->(a:Award)<-[:WORKED_ON]-(n2)\n",
    "MERGE (n1)-[r:WORKED_WITH]-(n2);'''\n",
    "\n",
    "# run the Cypher query\n",
    "graph_db.data( cypher_string )\n",
    "\n",
    "print( \"--COMPLETE-- at \" + str( datetime.datetime.now() ) )"
   ]
  },
  {
   "cell_type": "markdown",
   "metadata": {},
   "source": [
    "If you would like to see the new data, open your neo4j console. you'll see that we now have a new node label, Student. "
   ]
  },
  {
   "cell_type": "markdown",
   "metadata": {},
   "source": [
    "## Working with Graph Data in `networkx`\n",
    "\n",
    "- back to [Table of Contents](#Table-of-Contents)\n",
    "\n",
    "### `networkx` - Plotting Network Graphs \n",
    "\n",
    "- back to [Table of Contents](#Table-of-Contents)\n",
    "\n",
    "Networkx is a python modual for creating, displaying and analysing graph data. \n",
    "\n",
    "We can load data from our neo4j graph into networkx by preforming queries and passing that data to networkx.\n",
    "\n",
    "Run the cell below to see an example"
   ]
  },
  {
   "cell_type": "code",
   "execution_count": 18,
   "metadata": {
    "collapsed": false,
    "scrolled": false
   },
   "outputs": [
    {
     "name": "stdout",
     "output_type": "stream",
     "text": [
      "   a.award_num p.employeeid  weight\n",
      "0       aw1000     90014540    0.01\n",
      "1       aw1001     90026679    0.01\n",
      "2       aw1002     90017693    0.01\n",
      "3       aw1003     90028696    0.01\n",
      "4       aw1003     90000919    0.01\n",
      "5       aw1004     90013819    0.01\n",
      "6       aw1004     90024693    0.01\n",
      "7       aw1005     90001118    0.01\n",
      "8       aw1005     90001652    0.01\n",
      "9       aw1006     90039108    0.01\n",
      "10      aw1006     90001300    0.01\n",
      "11      aw1006     90025754    0.01\n",
      "12      aw1007     90023086    0.01\n",
      "13      aw1007     90004472    0.01\n",
      "14      aw1007     90026898    0.01\n",
      "15      aw1007     90022371    0.01\n",
      "16      aw1008     90017074    0.01\n",
      "17      aw1008     90028781    0.01\n",
      "18      aw1008     90004472    0.01\n",
      "19      aw1008     90024665    0.01\n",
      "20      aw1009     90025003    0.01\n",
      "21      aw1009     98101941    0.01\n",
      "22      aw1009     90028781    0.01\n",
      "23      aw1009     90002437    0.01\n",
      "24      aw1010     90000321    0.01\n",
      "25      aw1010     90001461    0.01\n",
      "26      aw1010     98101941    0.01\n",
      "27      aw1010     90019735    0.01\n",
      "28      aw1011     90001779    0.01\n",
      "29      aw1011        16578    0.01\n",
      "30      aw1011     90001461    0.01\n",
      "31      aw1011         8791    0.01\n",
      "32      aw1012     90012327    0.01\n",
      "33      aw1012     90024642    0.01\n",
      "34      aw1012        16578    0.01\n",
      "35      aw1012         8391    0.01\n",
      "36      aw1013         6663    0.01\n",
      "37      aw1013         1646    0.01\n",
      "38      aw1013     90024642    0.01\n",
      "39      aw1014     90028695    0.01\n",
      "40      aw1014     90008389    0.01\n",
      "41      aw1014         1646    0.01\n",
      "42      aw1015     90013011    0.01\n",
      "43      aw1015     90028845    0.01\n",
      "44      aw1015     90008389    0.01\n",
      "45      aw1016     90004139    0.01\n",
      "46      aw1016     90026452    0.01\n",
      "47      aw1016     90028845    0.01\n",
      "48      aw1017     90002533    0.01\n",
      "49      aw1017     90028246    0.01\n"
     ]
    },
    {
     "data": {
      "text/plain": [
       "'\\nNotes \\nGreen Nodes are Employees\\nYellow Nodes are Students\\nRed Nodes are Awards\\n\\n'"
      ]
     },
     "execution_count": 18,
     "metadata": {},
     "output_type": "execute_result"
    },
    {
     "data": {
      "image/png": "[encoded data removed]",
      "text/plain": [
       "<matplotlib.figure.Figure at 0x1b9e7dce978>"
      ]
     },
     "metadata": {},
     "output_type": "display_data"
    }
   ],
   "source": [
    "# Preform a cypher query to get 50 instances where a person worked on an award\n",
    "results = graph_db.data(\"MATCH (p) -[r]-> (a:Award) RETURN p.employeeid, a.award_num LIMIT 50\")\n",
    "\n",
    "# Convert The results to a dataframe \n",
    "results_df =pandas.DataFrame(results)\n",
    "\n",
    "# This will make  the connections between the nodes easier to see \n",
    "results_df['weight'] = .01\n",
    "\n",
    "# Uncomment this next line if you would like to see what the data looks like \n",
    "print(pandas.DataFrame(results_df))\n",
    "\n",
    "# Convert to graph object\n",
    "graph = networkx.from_pandas_dataframe(results_df, 'p.employeeid', 'a.award_num', ['weight'])\n",
    "\n",
    "\n",
    "# The following code is used to keep track of employees vs. award numbers,\n",
    "# and then to assign colors to nodes of each type in the graph\n",
    "emps = {}\n",
    "awards = {} \n",
    "color_vals = []\n",
    "\n",
    "for pair in results:\n",
    "    emps[pair[\"p.employeeid\"]] = 1\n",
    "    awards[pair[\"a.award_num\"]] = 1\n",
    "\n",
    "\n",
    "for node in graph.nodes(data =True):\n",
    "    if node[0] in emps:\n",
    "        color_vals.append ('g')  # green\n",
    "    else:\n",
    "        color_vals.append ('r')  # red\n",
    "\n",
    "    \n",
    "# Draw the graph \n",
    "networkx.draw(graph, node_color = color_vals)\n",
    "\n",
    "\"\"\"\n",
    "Notes \n",
    "Green Nodes are Employees\n",
    "Yellow Nodes are Students\n",
    "Red Nodes are Awards\n",
    "\n",
    "\"\"\""
   ]
  },
  {
   "cell_type": "markdown",
   "metadata": {},
   "source": [
    "### `networkx` - Network Analysis \n",
    "\n",
    "- back to [Table of Contents](#Table-of-Contents)\n",
    "\n",
    "The networkx module also has built in tools to analyse graphs. The following measurements are used to assess how the nodes are related to each other in the graph database.  "
   ]
  },
  {
   "cell_type": "markdown",
   "metadata": {},
   "source": [
    "#### Network Analysis Basics \n",
    "\n",
    "- back to [Table of Contents](#Table-of-Contents)\n",
    "\n",
    "In network analysis:\n",
    "\n",
    "- **_nodes_** are the things in a network that are related to each other\n",
    "- **_edges_** or **_ties_** are relations between nodes.\n",
    "- **_metrics_** are statistical scores that can be calculated on nodes or networks as a whole to describe characteristics of a node or of the broader network.\n",
    "\n",
    "The following are some examples of traits of individual nodes and the overall network in a network graph that can be used to characterize network data:\n",
    "\n",
    "- **Degree Centrality ** - counts the number of edges that an individual node has \n",
    "\n",
    "    - Nodes with a high degree of connections usually play an important role in a network\n",
    "    - This can also be looked at in aggregate for all nodes in a graph to get an idea of the overall connectedness of the graph.  For example, calculate the mean and median degree centrality across all nodes to look at how connected a graph is, in general.\n",
    "\n",
    "- **Betweenness ** - indicator of a node's centality in a network. \n",
    "\n",
    "    - Equal to the number of shortest paths from all vertices to all others that pass through that node\n",
    "    - This also can be looked at in aggregate to characterize an entire network.\n",
    "\n",
    "- **Diameter** - The longest shortest path over all pairs of nodes \n",
    "\n",
    "    - Often we want to find the shortest distance between two nodes; the diameter is the longest of these paths \n",
    "     - Nodes that occur on many shortest paths between other nodes in the graph have a high betweenness centrality score\n",
    "\n",
    "- **Cliques ** - A clique is a subset of vertices of an undirected graph such that every two distinct vertices in the clique are adjacent.     \n",
    "\n",
    "Let's look at how we'd use `networkx` to calculate these measures in a sample set of data."
   ]
  },
  {
   "cell_type": "markdown",
   "metadata": {},
   "source": [
    "#### Initializing Example Data\n",
    "\n",
    "- back to [Table of Contents](#Table-of-Contents)\n",
    "\n",
    "Run the Cell Below to create one of Networkx eample graphs, the Maze Graph"
   ]
  },
  {
   "cell_type": "code",
   "execution_count": 19,
   "metadata": {
    "collapsed": false
   },
   "outputs": [
    {
     "name": "stdout",
     "output_type": "stream",
     "text": [
      "Tuttle Graph\n",
      "-------------\n",
      "Number of Nodes: 8\n"
     ]
    },
    {
     "data": {
      "image/png": "[encoded data removed]",
      "text/plain": [
       "<matplotlib.figure.Figure at 0x1b9e7bc34e0>"
      ]
     },
     "metadata": {},
     "output_type": "display_data"
    }
   ],
   "source": [
    "# Create The graph\n",
    "maze=networkx.sedgewick_maze_graph()\n",
    "\n",
    "# Draw the graph\n",
    "networkx.draw(maze)\n",
    "\n",
    "print( \"Tuttle Graph\" )\n",
    "print( \"-------------\" )\n",
    "print( \"Number of Nodes: \" + str( maze.number_of_nodes() ) )"
   ]
  },
  {
   "cell_type": "markdown",
   "metadata": {},
   "source": [
    "#### Metrics - Degree\n",
    "\n",
    "- back to [Table of Contents](#Table-of-Contents)\n",
    "\n",
    "The \"Degree\" metric:\n",
    "\n",
    "- Counts the number of edges that a node has \n",
    "- Nodes with a high degree of connections usally play an important role in a network "
   ]
  },
  {
   "cell_type": "code",
   "execution_count": 20,
   "metadata": {
    "collapsed": false
   },
   "outputs": [
    {
     "name": "stdout",
     "output_type": "stream",
     "text": [
      "The Minimum number of Edges = 1\n",
      "The Minimum number of Edges = 4\n",
      "The Mean number of Edges = 2.5\n",
      "The Median number of Edges = 2.5\n"
     ]
    }
   ],
   "source": [
    "# Calculate the degree of each node \n",
    "\n",
    "# get map of node IDs to degree for each node.\n",
    "maze_degree_dict = maze.degree()\n",
    "\n",
    "# get an iterator over just the values.\n",
    "maze_degree_values = six.itervalues( maze_degree_dict )\n",
    "\n",
    "# convert to a list for min() and max()\n",
    "degree_value_list = list( maze_degree_values )\n",
    "\n",
    "# convert to numpy array for numpy.mean() and numpy.median()\n",
    "numpy_degree_value_array = numpy.array( degree_value_list )\n",
    "\n",
    "# calculate min, max, mean, and median values:\n",
    "degree_min = min( degree_value_list )\n",
    "degree_max = max( degree_value_list )\n",
    "degree_mean = numpy.mean( numpy_degree_value_array )\n",
    "degree_median = numpy.median( numpy_degree_value_array )\n",
    "\n",
    "# output:\n",
    "print( \"The Minimum number of Edges = \" + str( degree_min ) )\n",
    "print( \"The Minimum number of Edges = \" + str( degree_max ) )\n",
    "print( \"The Mean number of Edges = \" + str( degree_mean ) )\n",
    "print( \"The Median number of Edges = \" + str( degree_median ) )"
   ]
  },
  {
   "cell_type": "markdown",
   "metadata": {},
   "source": [
    "#### Metrics - Centrality\n",
    "\n",
    "- back to [Table of Contents](#Table-of-Contents)\n",
    "\n",
    "\"Centrality\" metrics use different methods to calculate how central a given node is within a network, or how centralized a given network graph is."
   ]
  },
  {
   "cell_type": "code",
   "execution_count": 21,
   "metadata": {
    "collapsed": false
   },
   "outputs": [
    {
     "name": "stdout",
     "output_type": "stream",
     "text": [
      "The Minimum Degree Centrality = 0.14285714285714285\n",
      "The Minimum Degree Centrality = 0.5714285714285714\n",
      "The Mean Degree Centrality = 0.357142857143\n",
      "The Median Degree Centrality = 0.357142857143\n"
     ]
    }
   ],
   "source": [
    "# Normalized degree is degree centrality divided by the maximum possible number of connections \n",
    "# The bigger the number, the more connections \n",
    "\n",
    "# Calculate the degree centrality of each node \n",
    "\n",
    "# get map of node IDs to degree centrality values for each node.\n",
    "maze_degree_centrality_dict = networkx.degree_centrality( maze )\n",
    "\n",
    "# get an iterator over just the values.\n",
    "maze_degree_centrality_values = six.itervalues( maze_degree_centrality_dict )\n",
    "\n",
    "# convert to a list for min() and max()\n",
    "degree_centrality_value_list = list( maze_degree_centrality_values )\n",
    "\n",
    "# convert to numpy array for numpy.mean() and numpy.median()\n",
    "numpy_degree_centrality_value_array = numpy.array( degree_centrality_value_list )\n",
    "\n",
    "# calculate min, max, mean, and median values:\n",
    "degree_centrality_min = min( degree_centrality_value_list )\n",
    "degree_centrality_max = max( degree_centrality_value_list )\n",
    "degree_centrality_mean = numpy.mean( numpy_degree_centrality_value_array )\n",
    "degree_centrality_median = numpy.median( numpy_degree_centrality_value_array )\n",
    "\n",
    "# output:\n",
    "print( \"The Minimum Degree Centrality = \" + str( degree_centrality_min ) )\n",
    "print( \"The Minimum Degree Centrality = \" + str( degree_centrality_max ) )\n",
    "print( \"The Mean Degree Centrality = \" + str( degree_centrality_mean ) )\n",
    "print( \"The Median Degree Centrality = \" + str( degree_centrality_median ) )"
   ]
  },
  {
   "cell_type": "code",
   "execution_count": 22,
   "metadata": {
    "collapsed": false
   },
   "outputs": [
    {
     "name": "stdout",
     "output_type": "stream",
     "text": [
      "The Centrility of this graph is 0.2857142857142857\n"
     ]
    }
   ],
   "source": [
    "# Freeman Centralization:\n",
    "# How much variation is there in the centrality scores among the nodes?\n",
    "# http://cs.brynmawr.edu/Courses/cs380/spring2013/section02/slides/05_Centrality.pdf\n",
    "# Scores closer to one convey more popular nodes interact with many other nodes; \n",
    "# the closer to zero, the more interactions between nodes are evenly distributed \n",
    "\n",
    "# Calculate the centralization for all the nodes \n",
    "all_degrees = maze.degree().values()\n",
    "\n",
    "# Get the Maximum degree number \n",
    "max_degree = max(all_degrees)\n",
    "# Get the number of nodes in the maze graph\n",
    "nodes_num = maze.number_of_nodes()\n",
    "\n",
    "# Calculate the centrality using the max degree, the number of nodes, and the degrees of all then node\n",
    "centrality = sum([max_degree - x for x in all_degrees]) / float(((nodes_num - 1)*(nodes_num - 2)))\n",
    "print( \"The Centrility of this graph is \" + str( centrality ) )"
   ]
  },
  {
   "cell_type": "markdown",
   "metadata": {},
   "source": [
    "### Metrics - Betweenness\n",
    "\n",
    "- back to [Table of Contents](#Table-of-Contents)\n",
    "\n",
    "**_Betweenness_** equals the number of shortes paths from all vertices to all others that pass through a given node."
   ]
  },
  {
   "cell_type": "code",
   "execution_count": 23,
   "metadata": {
    "collapsed": false,
    "scrolled": false
   },
   "outputs": [
    {
     "name": "stdout",
     "output_type": "stream",
     "text": [
      "The Minimum Betweenness measure = 0.0\n",
      "The Minimum Betweenness measure = 0.3571428571428571\n",
      "The Mean Betweenness measure = 0.136904761905\n",
      "The Median Betweenness measure = 0.0833333333333\n"
     ]
    }
   ],
   "source": [
    "# Calulate Betweenness Centrality scores for all the nodes\n",
    "\n",
    "# get map of node IDs to betweenness centrality for each node.\n",
    "betweenness_centrality_dict = networkx.betweenness_centrality(maze)\n",
    "\n",
    "# get an iterator over just the values.\n",
    "betweenness_centrality_values = six.itervalues( betweenness_centrality_dict )\n",
    "\n",
    "# convert to a list for min() and max()\n",
    "centrality_value_list = list( betweenness_centrality_values )\n",
    "\n",
    "# convert to numpy array for numpy.mean() and numpy.median()\n",
    "numpy_centrality_value_array = numpy.array( centrality_value_list )\n",
    "\n",
    "# calculate min, max, mean, and median values:\n",
    "between_centrality_min = min( centrality_value_list )\n",
    "between_centrality_max = max( centrality_value_list )\n",
    "between_centrality_mean = numpy.mean( numpy_centrality_value_array )\n",
    "between_centrality_median = numpy.median( numpy_centrality_value_array )\n",
    "\n",
    "# output:\n",
    "print( \"The Minimum Betweenness measure = \" + str( between_centrality_min ) )\n",
    "print( \"The Minimum Betweenness measure = \" + str( between_centrality_max ) )\n",
    "print( \"The Mean Betweenness measure = \" + str( between_centrality_mean ) )\n",
    "print( \"The Median Betweenness measure = \" + str( between_centrality_median ) )"
   ]
  },
  {
   "cell_type": "markdown",
   "metadata": {},
   "source": [
    "#### Metrics - Diameter\n",
    "\n",
    "- back to [Table of Contents](#Table-of-Contents)\n",
    "\n",
    "Often we want to find the shortest distance between two nodes in a network graph; the **_diameter_** is the longest of theses paths.\n",
    "\n",
    "- Nodes that occur on many of these shortest paths between other nodes in the graph have a high betweenness centrality score  "
   ]
  },
  {
   "cell_type": "code",
   "execution_count": 24,
   "metadata": {
    "collapsed": false
   },
   "outputs": [
    {
     "name": "stdout",
     "output_type": "stream",
     "text": [
      "The Diameter of this graph is 3\n"
     ]
    }
   ],
   "source": [
    "diameter_size = networkx.diameter(maze)\n",
    "print( \"The Diameter of this graph is \" + str(diameter_size) )\n"
   ]
  },
  {
   "cell_type": "markdown",
   "metadata": {},
   "source": [
    "#### Cliques\n",
    "\n",
    "- back to [Table of Contents](#Table-of-Contents)\n",
    "\n",
    "A **_clique_** is a subset of vertices of an undirected graph such that every two distinct vertices in the clique are adjacent.  "
   ]
  },
  {
   "cell_type": "code",
   "execution_count": 25,
   "metadata": {
    "collapsed": false
   },
   "outputs": [
    {
     "name": "stdout",
     "output_type": "stream",
     "text": [
      "The Cliques in the Maze graph are, [[0, 2], [0, 5], [0, 7], [1, 7], [2, 6], [4, 3, 5], [4, 6], [4, 7]]\n"
     ]
    }
   ],
   "source": [
    "maze_cliques =  list(networkx.find_cliques(maze))\n",
    "print( \"The Cliques in the Maze graph are, \" + str(maze_cliques) )"
   ]
  },
  {
   "cell_type": "markdown",
   "metadata": {},
   "source": [
    "**The above list of cliques are a somewhat unintresting.**\n",
    "\n",
    "Run the code cell below to see the clique list of another built-in graph, the lolipop graph.\n",
    "\n",
    "You can see that the lollipop graph has a cluster of 10 nodes that make up the \"candy\" part of the lollipop while the \"stem\" of the lollipop is a line of nodes."
   ]
  },
  {
   "cell_type": "code",
   "execution_count": 26,
   "metadata": {
    "collapsed": false
   },
   "outputs": [
    {
     "name": "stdout",
     "output_type": "stream",
     "text": [
      "The Cliques in the Lollipop graph are, [[9, 0, 1, 2, 3, 8, 4, 5, 6, 7], [9, 10], [11, 10], [11, 12], [12, 13], [13, 14], [14, 15], [15, 16], [16, 17], [17, 18], [18, 19], [19, 20], [20, 21], [21, 22], [22, 23], [23, 24], [24, 25], [25, 26], [26, 27], [27, 28], [28, 29]]\n"
     ]
    },
    {
     "data": {
      "image/png": "[encoded data removed]",
      "text/plain": [
       "<matplotlib.figure.Figure at 0x1b9e7d3a908>"
      ]
     },
     "metadata": {},
     "output_type": "display_data"
    }
   ],
   "source": [
    "# Create the Graph \n",
    "lolli_g = lollipop=networkx.lollipop_graph(10,20)\n",
    "\n",
    "# Get the cliques of the graph \n",
    "lolli_cliques = list(networkx.find_cliques(lolli_g))\n",
    "\n",
    "print( \"The Cliques in the Lollipop graph are, \" + str(lolli_cliques) )\n",
    "\n",
    "# Draw the Graph\n",
    "networkx.draw(lolli_g)"
   ]
  },
  {
   "cell_type": "code",
   "execution_count": null,
   "metadata": {
    "collapsed": true
   },
   "outputs": [],
   "source": []
  }
 ],
 "metadata": {
  "anaconda-cloud": {},
  "kernelspec": {
   "display_name": "Python [Root]",
   "language": "python",
   "name": "Python [Root]"
  },
  "language_info": {
   "codemirror_mode": {
    "name": "ipython",
    "version": 3
   },
   "file_extension": ".py",
   "mimetype": "text/x-python",
   "name": "python",
   "nbconvert_exporter": "python",
   "pygments_lexer": "ipython3",
   "version": "3.5.2"
  }
 },
 "nbformat": 4,
 "nbformat_minor": 0
}
