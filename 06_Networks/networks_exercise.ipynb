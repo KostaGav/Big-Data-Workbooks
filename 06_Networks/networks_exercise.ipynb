{
 "cells": [
  {
   "cell_type": "markdown",
   "metadata": {},
   "source": [
    "# Networks Exercise"
   ]
  },
  {
   "cell_type": "markdown",
   "metadata": {
    "collapsed": false
   },
   "source": [
    "## Table of Contents\n",
    "\n",
    "- [Introduction](#Introduction)\n",
    "- [Setup](#Setup)\n",
    "\n",
    "    - [Connecting to the Neo4j Database](#Connecting-to-the-Neo4j-Database)\n",
    "    - [Testing our connection](#Testing-our-connection)\n",
    "    \n",
    "- [Brief Overview of Neo4j and Cypher](#Brief-Overview-of-Neo4j-and-Cypher)\n",
    "\n",
    "    - [How Neo4j Works](#How-Neo4j-Works)\n",
    "    - [Components of a Simple Cypher Query](#Components-of-a-Simple-Cypher-Query)\n",
    "    \n",
    "- [Part 1 - Cypher Query Language](#Part-1---Cypher-Query-Language)\n",
    "\n",
    "    - [Exercise - Querying Employee Nodes](#Exercise---Querying-Employee-Nodes)\n",
    "    - [Exercise - The WORKED_WITH relationship](#Exercise---the-WORKED_WITH-relationship)\n",
    "    \n",
    "- [Part 2 - Neo4j and `networkx`](#Part-2---Neo4j-and-networkx)\n",
    "\n",
    "    - [Importing data from Neo4j into `networkx`](#Importing-data-from-Neo4j-into-networkx)\n",
    "    - [Visualizing a Graph in `networkx`](#Visualizing-a-Graph-in-networkx)\n",
    "    - [Creating and Plotting a Subgraph](#Creating-and-Plotting-a-Subgraph)\n",
    "    \n",
    "        - [Exercise - Subsetting a Graph](#Exercise---Subsetting-a-Graph)\n",
    "        \n",
    "- [Part 3 - Analyzing Networks](#Part-3---Analyzing-Networks)\n",
    "\n",
    "    - [Network Measures](#Network-Measures)\n",
    "    - [Exercise - Calculating Network Metrics](#Exercise---Calculating-Network-Metrics)\n",
    "    - [Exercise - Analyzing a Sub Graph](#Exercise---Analyzing-a-Sub-Graph)\n",
    "    - [Plotting Network Metrics](#Plotting-Network-Metrics)\n",
    "    - [Exercise - degree vs. betweeness centrality](#Exercise---degree-vs.-betweeness-centrality)\n",
    "    \n",
    "- [Part 4 - Analyzing Graphs](#Part-4---Analysing-Graphs)\n",
    "\n",
    "    - [Exercise - function that plots centrality metrics](#Exercise---function-that-plots-centrality-metrics)"
   ]
  },
  {
   "cell_type": "markdown",
   "metadata": {},
   "source": [
    "## Introduction\n",
    "\n",
    "- back to [Table of Contents](#Table-of-Contents)\n",
    "\n",
    "This exercise will go over the basics on how to connect to a neo4j database, query the database, and analyse data.  It is broken up into two Jupyter IPython notebooks:\n",
    "\n",
    "- This file, `networks_exercise.ipynb`, contains an exercise you can run through to practice working with Neo4j and `networkx`.\n",
    "- The file `networks_with_neo4j.ipynb`, is the first notebook you should run.  It contains an overview of Neo4j and its Cypher query language, how you interact with Neo4j using Python, and how you analyze networks using the Python `networkx` package.\n",
    "\n",
    "Before you begin this lesson:\n",
    "\n",
    "* Read through and make sure you've followed all the steps in the file README.md inside this exercise's folder.\n",
    "* Read though the \"Installing neo4j\" Guide (either the PDF or the Word Document).\n",
    "* Start your neo4j server using the \"Ne04j Community Edition\" application on your computer (you can confirm it is running by opening [http://localhost:7474/](http://localhost:7474/) - if neo4j is running, you'll either get the \"$\" prompt or be asked to log in.  If neo4j is not running, you'll get an error message indicating the page cannot load).\n",
    "* Work through the `networks_with_neo4j.ipynb` Jupyter IPython notebook, making sure to run all the code cells so you know your software environment is set up and working."
   ]
  },
  {
   "cell_type": "markdown",
   "metadata": {},
   "source": [
    "## Setup\n",
    "\n",
    "- back to [Table of Contents](#Table-of-Contents)\n",
    "\n",
    "First, we'll import python packages needed for the code in this notebook.  If you stop in the middle of this notebook, close it, then come back later to continue, make sure to run these imports each time you start up the notebook again."
   ]
  },
  {
   "cell_type": "code",
   "execution_count": 1,
   "metadata": {
    "collapsed": false
   },
   "outputs": [
    {
     "name": "stdout",
     "output_type": "stream",
     "text": [
      "--COMPLETE-- at 2016-09-29 12:04:49.296060\n"
     ]
    }
   ],
   "source": [
    "# Imports \n",
    "import sys\n",
    "\n",
    "# import six for python 2 and 3 support.\n",
    "import six\n",
    "\n",
    "# py2neo - Python package for interacting with neo4j.\n",
    "import py2neo\n",
    "\n",
    "import networkx\n",
    "import numpy\n",
    "import operator \n",
    "import pandas\n",
    "import pprint\n",
    "import pymysql\n",
    "\n",
    "# Allows plots to be showed inline \n",
    "import matplotlib\n",
    "%matplotlib inline\n",
    "\n",
    "import datetime\n",
    "print( \"--COMPLETE-- at \" + str( datetime.datetime.now() ) )"
   ]
  },
  {
   "cell_type": "markdown",
   "metadata": {},
   "source": [
    "### Connecting to the Neo4j Database \n",
    "\n",
    "- back to [Table of Contents](#Table-of-Contents)\n",
    "\n",
    "To connect to the Neo4j Database we will be using the `py2neo` Python package ( [http://py2neo.org](http://py2neo.org) ).\n",
    "\n",
    "In the cell below we will begin by using `py2neo` to create a connection to our neo4j database. "
   ]
  },
  {
   "cell_type": "code",
   "execution_count": 2,
   "metadata": {
    "collapsed": false
   },
   "outputs": [
    {
     "name": "stdout",
     "output_type": "stream",
     "text": [
      "Connection to Neo4j at <Graph uri='http://localhost:7474/db/data/'> created at 2016-09-29 12:04:58.783524\n"
     ]
    }
   ],
   "source": [
    "# Set up connection to Neo4j local Database \n",
    "# You will need to authenticate your connection, use the next line as an example \n",
    "# authenticate(\"localhost:7474\", \"<YOUR USENAME HERE>, Default is: neo4j\", \"<YOUR_PASSWORD_HERE>\")\n",
    "\n",
    "# set up authentication parameters\n",
    "database_host = \"localhost\"\n",
    "database_port = \"7474\"\n",
    "database_username = \"neo4j\"\n",
    "database_password = \"Leonardo1991\"\n",
    "\n",
    "# authenticate with \"py2neo.authenticate()\" function.\n",
    "py2neo.authenticate( database_host + \":\" + database_port, database_username, database_password )\n",
    "\n",
    "# Create a variable for our graph and print our connection infomation\n",
    "graph_db = py2neo.Graph()\n",
    "print( \"Connection to Neo4j at \" + str( graph_db ) + \" created at \" + str( datetime.datetime.now() ) )"
   ]
  },
  {
   "cell_type": "markdown",
   "metadata": {},
   "source": [
    "### Testing our connection\n",
    "\n",
    "- back to [Table of Contents](#Table-of-Contents)\n",
    "\n",
    "To extract data from our database, we will pass cypher commands Neo4j using the `data()` method on an instance of py2neo's Graph object (more details on this follow).\n",
    "\n",
    "More details on this follow.  First, however, to test our connection, we'll use the `data()` method to run a basic cypher query that asks Neo4j to find all nodes:\n",
    "\n",
    "    MATCH (n)\n",
    "\n",
    "but return only one:\n",
    "\n",
    "    RETURN n limit 1;"
   ]
  },
  {
   "cell_type": "code",
   "execution_count": 3,
   "metadata": {
    "collapsed": false
   },
   "outputs": [
    {
     "data": {
      "text/plain": [
       "[{'node': (efae2f1:Employee {employeeid:\"90014540\",position:\"FACULTY\"})}]"
      ]
     },
     "execution_count": 3,
     "metadata": {},
     "output_type": "execute_result"
    }
   ],
   "source": [
    "# The syntax below translates to,\n",
    "#'Match (Find) any node, lets call it \"node\", and show me its data. Limit the results to 1'\n",
    "\n",
    "graph_db.data( \"MATCH ( node ) RETURN node limit 1;\" )"
   ]
  },
  {
   "cell_type": "markdown",
   "metadata": {},
   "source": [
    "## Brief Overview of Neo4j and Cypher\n",
    "\n",
    "- back to [Table of Contents](#Table-of-Contents)\n",
    "\n",
    "### How Neo4j Works\n",
    "\n",
    "- back to [Table of Contents](#Table-of-Contents)\n",
    "\n",
    "When you think of data, you probably imagine an excel table where each row is an individual observation or data point. \n",
    "\n",
    "For example:\n",
    "\n",
    "|name | age | employee_id|\n",
    "|-----|-----|------------|\n",
    "|Joe  |  34 |   12345    |\n",
    "|Ann  |  54 |   12346    |\n",
    "    \n",
    "In Neo4j, each of these rows is stored as and referred to as a Node.  Neo4j nodes can contain all the same information as a tabular representation of data like a spreadsheet or a traditional database table, but they are structured a little differently.\n",
    "\n",
    "A traditional database table will have a set number of columns, and each row in the table will have the same set of columns.  Different types of data are stored in different tables, and rows within a given table can not have different sets of values.\n",
    "\n",
    "In Neo4j (and in other \"NoSQL\" databases that use a record model rather than a relational table model), all things in the system are placed in a single \"Node\" database, and each can have any properties you want to assign to them.\n",
    "\n",
    "So, where a relational database might have separate tables for students and employees, for example, in Neo4j, students and employees are both stored as nodes, and the properties of the node are set as is appropriate for the type of node (so employees have name, age, and an employee ID - just like in the example table above - and students might have name, age, major, expected graduation date, and student ID).\n",
    "\n",
    "You can (and should!) have types of nodes that all are expected to have the same set of properties, but Neo4j and other NoSQL databases do not formally require this like a relational database does when you place data into a table.\n",
    "\n",
    "For example, when you run the following query using py2neo:\n",
    "\n",
    "    MATCH ( n ) RETURN n LIMIT 1;\n",
    "    \n",
    "You get back the following:\n",
    "\n",
    "    [{'n': (b63c693:Employee {employeeid:\"90014540\",position:\"FACULTY\"})}]\n",
    "    \n",
    "OR, formatted more politely:\n",
    "\n",
    "    [\n",
    "        {\n",
    "            'n': (\n",
    "                b63c693 : Employee {\n",
    "                    employeeid:\"90014540\",\n",
    "                    position:\"FACULTY\"\n",
    "                }\n",
    "            )\n",
    "            \n",
    "        }\n",
    "    ]\n",
    "    \n",
    "This structure uses Python (and JSON) conventions for lists and dictionaries to tell you that it returns:\n",
    "\n",
    "- a list ( the outer \"[]\" )\n",
    "- of dictionaries ( the \"{}\" inside the list )\n",
    "- each entry of which contains a mapping of one of the sets of nodes you've requested in RETURN (in this case, 'n')\n",
    "- to a static list (inside the parentheses - \"()\") of the matching nodes that maps IDs (example: `b63c693`) to node properties (`Employee {employeeid:\"90014540\",position:\"FACULTY\"}`).\n",
    "\n",
    "The information about an employee is still there (well, other than the name since we've removed it from our data set...), but instead of storing each peice of information on an employee in a pre-defined column, each employee's information is stored as **properties** on a node, and the type of node is captured as a **label**, *Employee*, associated with the node that identify it as being of type \"Employee\"."
   ]
  },
  {
   "cell_type": "markdown",
   "metadata": {},
   "source": [
    "### Components of a Simple Cypher Query\n",
    "\n",
    "- back to [Table of Contents](#Table-of-Contents)\n",
    "\n",
    "Neo4j uses the Cypher Query Language to get information out of the Database.  The basic syntax is \"`MATCH ( n ) RETURN n LIMIT 1;`\":\n",
    "\n",
    "+ MATCH ( n )\n",
    "\n",
    "    - The `MATCH` clause is essentially the same as the SELECT clause in SQL.  It tells the Cypher query that you are filtering, and the information in parentheses defines where the query will be looking.\n",
    "    - `( n )` tells the Cypher Query to filter and retrieve matches from all nodes.  In `MATCH`, the letter you place here is a name you'll use in subsequent parts of the query to refer to matching nodes (like the `AS` keyword in SQL).  It can be any name, does not need to be `n`.\n",
    "    - Simply placing a name here means it will look at all nodes, regardless of type/label.  To filter on a label, append the label after the name, separated by a colon.  So, for nodes of type \"Employee\", your `MATCH` would look something like: `MATCH ( employees : Employee )`\n",
    "    - You can place more than one type of node inside the parentheses of a `MATCH` clause.\n",
    "\n",
    "+ RETURN n\n",
    "\n",
    "    - The `RETURN` clause tells the Cypher query what information should be returned for matching nodes.\n",
    "    - If you just return the name of the node specified in `MATCH ()`, then it will return all properties for each node.\n",
    "    - You can also specify the names of specific properties of nodes ( \"`RETURN n.employeeid, n.position`\", for example).\n",
    "    - A `RETURN` clause is needed in every query.\n",
    "\n",
    "+ LIMIT 1     \n",
    "\n",
    "    - LIMIT lets you request a subset of all matches be returned (in this case, just 1).  This does not imply order, so you might get a different node each time you run this query.\n",
    "    - This is similar to the LIMIT clause in an SQL statement.\n",
    "    \n",
    "+ all Cypher queries end with a semi-colon ( \";\" ).\n",
    "\n",
    "The following query will return 20 nodes from the database:  \n",
    "\n",
    "    graph_db.data( \"MATCH ( node ) RETURN node LIMIT 20;\" )\n",
    "\n",
    "If I wanted to query just nodes of type \"Award\" (where types are signified by labels associated with nodes), I would add a filter for the label \"Award\" inside the MATCH clause ( `MATCH ( n : Award )` ):  \n",
    "\n",
    "    graph_db.data( \"MATCH ( awards : Award ) RETURN awards LIMIT 20;\" )"
   ]
  },
  {
   "cell_type": "code",
   "execution_count": 4,
   "metadata": {
    "collapsed": false
   },
   "outputs": [
    {
     "data": {
      "text/plain": [
       "[{'awards.award_num': 'aw1000'},\n",
       " {'awards.award_num': 'aw1001'},\n",
       " {'awards.award_num': 'aw1002'},\n",
       " {'awards.award_num': 'aw1003'},\n",
       " {'awards.award_num': 'aw1004'},\n",
       " {'awards.award_num': 'aw1005'},\n",
       " {'awards.award_num': 'aw1006'},\n",
       " {'awards.award_num': 'aw1007'},\n",
       " {'awards.award_num': 'aw1008'},\n",
       " {'awards.award_num': 'aw1009'},\n",
       " {'awards.award_num': 'aw1010'},\n",
       " {'awards.award_num': 'aw1011'},\n",
       " {'awards.award_num': 'aw1012'},\n",
       " {'awards.award_num': 'aw1013'},\n",
       " {'awards.award_num': 'aw1014'},\n",
       " {'awards.award_num': 'aw1015'},\n",
       " {'awards.award_num': 'aw1016'},\n",
       " {'awards.award_num': 'aw1017'},\n",
       " {'awards.award_num': 'aw1018'},\n",
       " {'awards.award_num': 'aw1019'}]"
      ]
     },
     "execution_count": 4,
     "metadata": {},
     "output_type": "execute_result"
    }
   ],
   "source": [
    "# You can use this cell to Test the Cypher Queries.  For example, let's try to:\n",
    "# - Match (Find) any nodes that are of type Award\n",
    "# - and show the award number (award_num) for each of the nodes returned,\n",
    "# - limiting the number of results to 20.\n",
    "\n",
    "graph_db.data( \"MATCH ( awards : Award ) RETURN awards.award_num LIMIT 20;\" )"
   ]
  },
  {
   "cell_type": "markdown",
   "metadata": {},
   "source": [
    "## Cypher Query Language\n",
    "\n",
    "- back to [Table of Contents](#Table-of-Contents)"
   ]
  },
  {
   "cell_type": "markdown",
   "metadata": {
    "collapsed": true
   },
   "source": [
    "### Exercise - Querying Employee Nodes\n",
    "\n",
    "- back to [Table of Contents](#Table-of-Contents)\n",
    "\n",
    "For our first exercise, write a Cypher query that:\n",
    "\n",
    "- matches nodes of type Employee and returns the employeeid.\n",
    "- Limits the results to 10 nodes.\n",
    "\n",
    "Run the query using your py2neo Graph object's `data()` method and output the results."
   ]
  },
  {
   "cell_type": "code",
   "execution_count": 5,
   "metadata": {
    "collapsed": false,
    "nbgrader": {
     "grade": false,
     "grade_id": "squares",
     "locked": false,
     "solution": true
    }
   },
   "outputs": [
    {
     "data": {
      "text/plain": [
       "[{'employees.employeeid': '90014540'},\n",
       " {'employees.employeeid': '90026679'},\n",
       " {'employees.employeeid': '90017693'},\n",
       " {'employees.employeeid': '90028696'},\n",
       " {'employees.employeeid': '90013819'},\n",
       " {'employees.employeeid': '90001118'},\n",
       " {'employees.employeeid': '90001300'},\n",
       " {'employees.employeeid': '90023086'},\n",
       " {'employees.employeeid': '90017074'},\n",
       " {'employees.employeeid': '90025003'}]"
      ]
     },
     "execution_count": 5,
     "metadata": {},
     "output_type": "execute_result"
    }
   ],
   "source": [
    "graph_db.data( \"MATCH ( employees : Employee ) RETURN employees.employeeid LIMIT 10;\" )"
   ]
  },
  {
   "cell_type": "markdown",
   "metadata": {
    "collapsed": false
   },
   "source": [
    "Your query should return a list containing dictonaries.\n",
    "\n",
    "Example returned Object from py2neo:\n",
    "\n",
    "    [{u'employees.employeeid': u'90014540'},\n",
    "     {u'employees.employeeid': u'90026679'},\n",
    "     {u'employees.employeeid': u'90017693'},\n",
    "     {u'employees.employeeid': u'90028696'},\n",
    "     {u'employees.employeeid': u'90013819'},\n",
    "     {u'employees.employeeid': u'90001118'},\n",
    "     {u'employees.employeeid': u'90001300'},\n",
    "     {u'employees.employeeid': u'90023086'},\n",
    "     {u'employees.employeeid': u'90017074'},\n",
    "     {u'employees.employeeid': u'90025003'}]"
   ]
  },
  {
   "cell_type": "markdown",
   "metadata": {},
   "source": [
    "What makes graph databases like Neo4j special is the ability to create relationships between nodes.\n",
    "\n",
    "For instance, the database we created in the first notebook for this exercise has two types of relationships: WORKED_ON and WORKED_WITH\n",
    "\n",
    "+ Employees have a *WORKED_ON* relationship with nodes which represent awards on which the person has worked.   \n",
    "+ Employees have a *WORKED_WITH* relationship other persons that have worked on the same award.   \n",
    "\n",
    "To view what this looks like, this query will return 5 instances of the pattern where an employee worked_on an award, and return the relationship."
   ]
  },
  {
   "cell_type": "code",
   "execution_count": 6,
   "metadata": {
    "collapsed": false
   },
   "outputs": [
    {
     "data": {
      "text/plain": [
       "[{'worked_on': (efae2f1)-[:WORKED_ON]->(c1dba42)},\n",
       " {'worked_on': (e39048a)-[:WORKED_ON]->(f2240dd)},\n",
       " {'worked_on': (bad790e)-[:WORKED_ON]->(bfefc2d)},\n",
       " {'worked_on': (c235ee4)-[:WORKED_ON]->(a7fc7e1)},\n",
       " {'worked_on': (f62b5a4)-[:WORKED_ON]->(a394655)}]"
      ]
     },
     "execution_count": 6,
     "metadata": {},
     "output_type": "execute_result"
    }
   ],
   "source": [
    "# create query string\n",
    "\n",
    "# MATCH clause\n",
    "query_string = \"MATCH ( employee : Employee )\"\n",
    "query_string += \" - [ worked_on : WORKED_ON ] ->\"\n",
    "query_string += \" ( award : Award )\"\n",
    "\n",
    "# RETURN clause\n",
    "query_string += \" RETURN worked_on\"\n",
    "\n",
    "# LIMIT clause\n",
    "query_string += \" LIMIT 5;\"\n",
    "\n",
    "# run the query\n",
    "graph_db.data( query_string )"
   ]
  },
  {
   "cell_type": "markdown",
   "metadata": {
    "collapsed": true
   },
   "source": [
    "### Exercise - the WORKED_WITH relationship\n",
    "\n",
    "- back to [Table of Contents](#Table-of-Contents)\n",
    "\n",
    "Write a query that:\n",
    "\n",
    "- matches nodes of type Employee that have a WORKED_WITH relationship with another node of type Employee.\n",
    "- Returns the employeeid of both employee nodes.\n",
    "- Limits the response to 5."
   ]
  },
  {
   "cell_type": "code",
   "execution_count": 7,
   "metadata": {
    "collapsed": false
   },
   "outputs": [
    {
     "data": {
      "text/plain": [
       "[{'employee1.employeeid': '90000919', 'employee2.employeeid': '90028696'},\n",
       " {'employee1.employeeid': '90024693', 'employee2.employeeid': '90013819'},\n",
       " {'employee1.employeeid': '90001652', 'employee2.employeeid': '90001118'},\n",
       " {'employee1.employeeid': '90025754', 'employee2.employeeid': '90001300'},\n",
       " {'employee1.employeeid': '90029620', 'employee2.employeeid': '90023086'}]"
      ]
     },
     "execution_count": 7,
     "metadata": {},
     "output_type": "execute_result"
    }
   ],
   "source": [
    "# create query string\n",
    "\n",
    "# MATCH clause\n",
    "query_string = \"MATCH ( employee1 : Employee )\"\n",
    "query_string += \" - [ worked_with : WORKED_WITH ] ->\"\n",
    "query_string += \" ( employee2 : Employee )\"\n",
    "\n",
    "# RETURN clause\n",
    "query_string += \" RETURN employee1.employeeid, employee2.employeeid\"\n",
    "\n",
    "# LIMIT clause\n",
    "query_string += \" LIMIT 5;\"\n",
    "\n",
    "# run the query\n",
    "graph_db.data( query_string )"
   ]
  },
  {
   "cell_type": "markdown",
   "metadata": {
    "collapsed": false,
    "nbgrader": {
     "grade": true,
     "grade_id": "correct_squares",
     "locked": true,
     "points": 1,
     "solution": false
    }
   },
   "source": [
    "Your query should return a list containing dictonaries.\n",
    "\n",
    "    [{u'employee1.employeeid': u'90000919', u'employee2.employeeid': u'90028696'},\n",
    "     {u'employee1.employeeid': u'90024693', u'employee2.employeeid': u'90013819'},\n",
    "     {u'employee1.employeeid': u'90001652', u'employee2.employeeid': u'90001118'},\n",
    "     {u'employee1.employeeid': u'90025754', u'employee2.employeeid': u'90001300'},\n",
    "     {u'employee1.employeeid': u'90004472', u'employee2.employeeid': u'90023086'}]"
   ]
  },
  {
   "cell_type": "markdown",
   "metadata": {},
   "source": [
    "## Part 2 - Neo4j and `networkx `\n",
    "\n",
    "- back to [Table of Contents](#Table-of-Contents)\n",
    "\n",
    "Understanding this network would be much easier if we could render charts of it, so we could see the relationships.\n",
    "\n",
    "To do this, we first have to convert our Neo4j data into `networkx` objects.  We can do this using the data that results from one of our Cypher queries.\n",
    "\n",
    "### Importing data from Neo4j into `networkx `\n",
    "\n",
    "- back to [Table of Contents](#Table-of-Contents)\n",
    "\n",
    "First create a query to pull in all of the relations in the system (so not including isolates?)."
   ]
  },
  {
   "cell_type": "code",
   "execution_count": 8,
   "metadata": {
    "collapsed": false,
    "scrolled": true
   },
   "outputs": [
    {
     "name": "stdout",
     "output_type": "stream",
     "text": [
      "[{'any_relation': (ae741cc)-[:WORKED_WITH]->(ca1d37f),\n",
      "  'node1': (ae741cc:Employee {employeeid:\"90024517\",position:\"FACULTY\"}),\n",
      "  'node2': (ca1d37f:Student {employeeid:\"90022565\",position:\"STUDENT\"})},\n",
      " {'any_relation': (ae741cc)-[:WORKED_WITH]->(d399c20),\n",
      "  'node1': (ae741cc:Employee {employeeid:\"90024517\",position:\"FACULTY\"}),\n",
      "  'node2': (d399c20:Student {employeeid:\"20479\",position:\"STUDENT\"})},\n",
      " {'any_relation': (ae741cc)-[:WORKED_WITH]->(b22d012),\n",
      "  'node1': (ae741cc:Employee {employeeid:\"90024517\",position:\"FACULTY\"}),\n",
      "  'node2': (b22d012:Student {employeeid:\"90024517\",position:\"STUDENT\"})},\n",
      " {'any_relation': (ae741cc)-[:WORKED_ON]->(bf70058),\n",
      "  'node1': (ae741cc:Employee {employeeid:\"90024517\",position:\"FACULTY\"}),\n",
      "  'node2': (bf70058:Award {award_num:\"aw1257\"})},\n",
      " {'any_relation': (ae741cc)-[:WORKED_ON]->(a1ff901),\n",
      "  'node1': (ae741cc:Employee {employeeid:\"90024517\",position:\"FACULTY\"}),\n",
      "  'node2': (a1ff901:Award {award_num:\"aw1468\"})},\n",
      " {'any_relation': (b22d012)-[:WORKED_ON]->(bf70058),\n",
      "  'node1': (b22d012:Student {employeeid:\"90024517\",position:\"STUDENT\"}),\n",
      "  'node2': (bf70058:Award {award_num:\"aw1257\"})},\n",
      " {'any_relation': (b22d012)-[:WORKED_ON]->(a1ff901),\n",
      "  'node1': (b22d012:Student {employeeid:\"90024517\",position:\"STUDENT\"}),\n",
      "  'node2': (a1ff901:Award {award_num:\"aw1468\"})}]\n",
      "Relations query --COMPLETE-- at 2016-09-29 12:05:25.622753\n"
     ]
    }
   ],
   "source": [
    "# declare variables - get all relations\n",
    "query_string = \"\"\n",
    "all_graph_data = \"\"\n",
    "\n",
    "# Get ALL the Nodes and relationships \n",
    "# MATCH clause\n",
    "query_string = \"MATCH ( node1 { employeeid: '90024517' } )\"\n",
    "query_string += \" - [ any_relation ] ->\"\n",
    "query_string += \" ( node2 )\"\n",
    "\n",
    "# RETURN clause\n",
    "query_string += \" RETURN node1, any_relation, node2\"\n",
    "\n",
    "# LIMIT clause\n",
    "#query_string += \" LIMIT 5\"\n",
    "\n",
    "# And, the closing semi-colon\n",
    "query_string += \";\"\n",
    "\n",
    "# run the query\n",
    "all_graph_relations = graph_db.data( query_string )\n",
    "\n",
    "pprint.pprint( all_graph_relations )\n",
    "\n",
    "print( \"Relations query --COMPLETE-- at \" + str( datetime.datetime.now() ) )"
   ]
  },
  {
   "cell_type": "markdown",
   "metadata": {},
   "source": [
    "Next, we'll use the results of this query to make a list of all the employees, students, and awards in our data set."
   ]
  },
  {
   "cell_type": "code",
   "execution_count": 9,
   "metadata": {
    "collapsed": false
   },
   "outputs": [
    {
     "name": "stdout",
     "output_type": "stream",
     "text": [
      "label set = {'Student', 'Employee'}\n",
      "====> Employees - unique = 1; total nodes = 5\n",
      "====> Students  - unique = 1; total nodes = 2\n",
      "====> Awards    - unique = 0; total nodes = 0\n",
      "--COMPLETE-- at 2016-09-29 12:05:33.522515\n"
     ]
    }
   ],
   "source": [
    "# The following code is used to keep track of employees vs. students vs. award numbers,\n",
    "\n",
    "# declare variables - make lists of types of nodes.\n",
    "employees = {}\n",
    "awards = {} \n",
    "students = {}\n",
    "label_set = set()\n",
    "relation_spec = None\n",
    "node_1 = None\n",
    "node_2 = None\n",
    "relation = None\n",
    "node_neo4j_id = None\n",
    "node_properties_dict = None\n",
    "node_position = \"\"\n",
    "node_employeeid = \"\"\n",
    "node_award_num = \"\"\n",
    "is_employee = False\n",
    "is_student = False\n",
    "is_award = False\n",
    "employee_id_set = set()\n",
    "student_id_set = set()\n",
    "award_id_set = set()\n",
    "employee_count = 0\n",
    "student_count = 0\n",
    "award_count = 0\n",
    "node_counter = 0\n",
    "test_counter = 0\n",
    "\n",
    "# Loop over all the relations returned by our query.\n",
    "relation_counter = 0\n",
    "for relation_spec in all_graph_relations:\n",
    "\n",
    "    # increment node_counter\n",
    "    node_counter += 1\n",
    "\n",
    "    # initialize\n",
    "    is_employee = False\n",
    "    is_student = False\n",
    "    is_award = False\n",
    "    test_counter = 0\n",
    "    \n",
    "    # get the node1 py2neo Node object for the current relation.\n",
    "    relation = relation_spec[ \"any_relation\" ]\n",
    "    node_1 = relation_spec[ \"node1\" ]\n",
    "    node_2 = relation_spec[ \"node2\" ]\n",
    "    \n",
    "    # get node 1's ID and properties\n",
    "    node_1_neo4j_id = node_1.__name__\n",
    "    node_1_properties_dict = dict( node_1 )\n",
    "    \n",
    "    '''\n",
    "    # Play with the py2neo.Node object.\n",
    "    print( \"======================================\" )\n",
    "    print( \"Current Node ( #\" + str( node_counter ) + \" ) as string: \" + str( node_1 ) )\n",
    "    print( \"- type() of Node: \" + str( type( node_1 ) ) )\n",
    "    print( \"- list of labels: \" + str( node_1.labels() ) )\n",
    "    print( \"- ID of node: \" + str( node_1.__name__ ) )\n",
    "    print( \"- full UUID: \" + str( node_1.__uuid__ ) )\n",
    "    \n",
    "    # print out all of the node Object's properties\n",
    "    print( \"- all Node properties:\" )\n",
    "    for property, value in six.iteritems( vars( node_1 ) ):\n",
    "        print( str( property ) + \" : \" + str( value ) )\n",
    "    '''\n",
    "\n",
    "    \n",
    "    # build list of labels - loop over labels for this node.\n",
    "    node_1_labels = node_1.labels()\n",
    "    for label in node_1_labels:\n",
    "        \n",
    "        # add label to label set.\n",
    "        label_set.add( label )\n",
    "        \n",
    "    #-- END loop over labels --#\n",
    "    \n",
    "    # what type of node?\n",
    "    is_employee = node_1.has_label( \"Employee\" )\n",
    "    is_student = node_1.has_label( \"Student\" )\n",
    "    is_award = node_1.has_label( \"Award\" )\n",
    "    if ( ( is_employee == True ) or ( is_student == True ) ):\n",
    "        \n",
    "        # get person information\n",
    "        node_1_position = node_1_properties_dict.get( \"position\", None )\n",
    "        node_1_employeeid = node_1_properties_dict.get( \"employeeid\", None )\n",
    "        \n",
    "        # employee?\n",
    "        if ( is_employee == True ):\n",
    "            \n",
    "            # employee.  Add to dictionary and set.\n",
    "            employee_count += 1\n",
    "            employee_id_set.add( node_1_employeeid )\n",
    "            employees[ node_1_employeeid ] = node_1_neo4j_id\n",
    "            \n",
    "            # is position other than FACULTY?\n",
    "            if ( node_1_position != \"FACULTY\" ):\n",
    "                \n",
    "                # not Employee, but not FACULTY - error?\n",
    "                print( \"ERROR? - Employee's position is \\\"\" + str( node_1_position ) + \"\\\", not \\\"FACULTY\\\"\" )\n",
    "                \n",
    "            #-- END check to see if position matches node type --#\n",
    "            \n",
    "            test_counter += 1\n",
    "            \n",
    "        #-- END check to see if Employee --#\n",
    "        \n",
    "        # student?\n",
    "        if ( is_student == True ):\n",
    "            \n",
    "            # student.  Add to dictionary and set.\n",
    "            student_count += 1\n",
    "            student_id_set.add( node_1_employeeid )\n",
    "            students[ node_1_employeeid ] = node_1_neo4j_id\n",
    "            \n",
    "            # is position FACULTY?\n",
    "            if ( node_1_position == \"FACULTY\" ):\n",
    "                \n",
    "                # not Employee, but FACULTY - error?\n",
    "                print( \"ERROR? - Student's position is \\\"\" + str( node_1_position ) + \"\\\", should be \\\"STUDENT\\\"\" )\n",
    "                \n",
    "            #-- END check to see if position matches node type --#\n",
    "            \n",
    "            test_counter += 1\n",
    "            \n",
    "        #-- END check to see if Student --#\n",
    "        \n",
    "    elif ( is_award == True ):\n",
    "        \n",
    "        # get award information\n",
    "        node_1_award_num = node_1_properties_dict.get( \"award_num\", None )\n",
    "            \n",
    "        # award.  Add to dictionary and set.\n",
    "        award_count += 1\n",
    "        award_id_set.add( node_1_award_num )\n",
    "        awards[ node_1_award_num ] = node_1_neo4j_id\n",
    "        \n",
    "    #-- END check to see what type --#\n",
    "    \n",
    "    if ( test_counter > 1 ):\n",
    "        \n",
    "        print( \"TEST COUNTER > 1: \" + str( node_1 ) )\n",
    "        \n",
    "#-- END loop over all relations --#\n",
    "\n",
    "print( \"label set = \" + str( label_set ) )\n",
    "print( \"====> Employees - unique = \" + str( len( employee_id_set ) ) + \"; total nodes = \" + str( employee_count ) )\n",
    "print( \"====> Students  - unique = \" + str( len( student_id_set ) ) + \"; total nodes = \" + str( student_count ) )\n",
    "print( \"====> Awards    - unique = \" + str( len( award_id_set ) ) + \"; total nodes = \" + str( award_count ) )\n",
    "\n",
    "print( \"--COMPLETE-- at \" + str( datetime.datetime.now() ) )"
   ]
  },
  {
   "cell_type": "markdown",
   "metadata": {},
   "source": [
    "Finally, we'll convert the overall data structure that was returned by our query into a `pandas` DataFrame and import the data into `networkx` from that DataFrame."
   ]
  },
  {
   "cell_type": "code",
   "execution_count": 10,
   "metadata": {
    "collapsed": false
   },
   "outputs": [
    {
     "name": "stdout",
     "output_type": "stream",
     "text": [
      "networkx import --COMPLETE-- at 2016-09-29 12:05:38.312201\n"
     ]
    }
   ],
   "source": [
    "# declare variables\n",
    "all_relations_df = None\n",
    "all_relations_nx = None # networkx (nx) representation of graph\n",
    "\n",
    "# Convert all_data to a dataframe object\n",
    "all_relations_df = pandas.DataFrame( all_graph_relations )\n",
    "\n",
    "#print( all_relations_df )\n",
    "\n",
    "# Adding a 'weight' column to see connections better\n",
    "all_relations_df[ 'weight' ] = .01\n",
    "\n",
    "# Use the networkx.from_pandas_dataframe() method to create\n",
    "#     a networkx graph of all the data.\n",
    "#     More info: https://networkx.github.io/documentation/networkx-1.10/reference/generated/networkx.convert_matrix.from_pandas_dataframe.html#from-pandas-dataframe\n",
    "all_relations_nx = networkx.from_pandas_dataframe( all_relations_df, 'node1', 'node2', ['weight'] )\n",
    "\n",
    "print( \"networkx import --COMPLETE-- at \" + str( datetime.datetime.now() ) )"
   ]
  },
  {
   "cell_type": "markdown",
   "metadata": {},
   "source": [
    "### Visualizing a Graph in `networkx`\n",
    "\n",
    "- back to [Table of Contents](#Table-of-Contents)\n",
    "\n",
    "Now we will use the `networkx.draw()` function to draw the graph of the network we've created.  First, we will create a function that accepts a list of nodes and creates an associated list of color values for each node."
   ]
  },
  {
   "cell_type": "code",
   "execution_count": 11,
   "metadata": {
    "collapsed": false
   },
   "outputs": [
    {
     "name": "stdout",
     "output_type": "stream",
     "text": [
      "def calculate_color_values_for_nodes() --COMPLETE-- at 2016-09-29 12:05:43.797958\n"
     ]
    }
   ],
   "source": [
    "def calculate_color_values_for_nodes( node_list_IN ):\n",
    "\n",
    "    # return reference\n",
    "    color_values_OUT = []\n",
    "    \n",
    "    # declare variables\n",
    "    color_values = []\n",
    "    node_counter = -1\n",
    "    node = None\n",
    "    py2neo_node = None\n",
    "    node_properties_dict = None\n",
    "    node_id = -1\n",
    "    node_type = \"\"\n",
    "    color_value = \"\"\n",
    "    \n",
    "    # loop over nodes\n",
    "    node_counter = 0\n",
    "    for node in node_list_IN:\n",
    "\n",
    "        '''\n",
    "        # Play with the networkx.Node object.\n",
    "        print( \"======================================\" )\n",
    "        print( \"Current Node ( #\" + str( node_counter ) + \" ) as string: \" + str( node ) )\n",
    "        print( \"- type() of Node: \" + str( type( node ) ) )\n",
    "\n",
    "        # print out all of the node Object's properties\n",
    "        print( \"- all Node properties:\" )\n",
    "        for item in node:\n",
    "            print( str( item ) )\n",
    "        '''\n",
    "\n",
    "        # initialize variables\n",
    "        node_id = 0\n",
    "        node_type = None\n",
    "\n",
    "        # get the node's properties (still a reference to py2neo.types.Node)\n",
    "        py2neo_node = node[ 0 ]\n",
    "        node_properties_dict = dict( py2neo_node )\n",
    "\n",
    "        #print( \"node[ 0 ] type = \" + str( type( py2neo_node ) ) )\n",
    "\n",
    "        # Is there an employee ID?\n",
    "        if \"employeeid\" in node_properties_dict:\n",
    "\n",
    "            # yes - store it as ID, and also get position.\n",
    "            node_id = node_properties_dict.get( \"employeeid\", None )\n",
    "            node_type = node_properties_dict.get( \"position\", None )\n",
    "\n",
    "        else:\n",
    "\n",
    "            # no employee ID, so award.\n",
    "            node_id = node_properties_dict.get( \"award_num\", None )\n",
    "            node_type = \"AWARD\"\n",
    "\n",
    "        #-- END check to see if employee ID. --#\n",
    "\n",
    "        # What type?\n",
    "        if node_type == \"FACULTY\":\n",
    "\n",
    "            # FACULTY = green\n",
    "            color_value = 'g'  # green\n",
    "\n",
    "        elif node_type == \"STUDENT\":\n",
    "\n",
    "            # STUDENT = yellow\n",
    "            color_value = 'y'  # yellow\n",
    "\n",
    "        else:\n",
    "\n",
    "            # other = AWARD = red\n",
    "            color_value = 'r'  # red\n",
    "\n",
    "        #-- END check to see what type based on position --#\n",
    "\n",
    "        color_values.append( color_value )\n",
    "\n",
    "    #-- END loop over nodes to derive node colors --#\n",
    "    \n",
    "    # place color values list in return reference.\n",
    "    color_values_OUT = color_values\n",
    "    \n",
    "    return color_values_OUT\n",
    "    \n",
    "#-- END function calculate_color_values_for_nodes() --#\n",
    "\n",
    "print( \"def calculate_color_values_for_nodes() --COMPLETE-- at \" + str( datetime.datetime.now() ) )"
   ]
  },
  {
   "cell_type": "code",
   "execution_count": 12,
   "metadata": {
    "collapsed": false
   },
   "outputs": [
    {
     "name": "stdout",
     "output_type": "stream",
     "text": [
      "network graphing --COMPLETE-- at 2016-09-29 12:05:46.074355\n"
     ]
    },
    {
     "data": {
      "image/png": "[encoded data removed]",
      "text/plain": [
       "<matplotlib.figure.Figure at 0x16450b1ca90>"
      ]
     },
     "metadata": {},
     "output_type": "display_data"
    }
   ],
   "source": [
    "# visualize the network       \n",
    "\n",
    "# declare variables\n",
    "all_relations_nodes = None\n",
    "color_values = []\n",
    "\n",
    "# use networkx graph.nodes() method to retrieve just list of nodes\n",
    "all_relations_nodes = all_relations_nx.nodes( data = True )\n",
    "\n",
    "# get colors of nodes.\n",
    "color_values = calculate_color_values_for_nodes( all_relations_nodes )\n",
    "        \n",
    "# output_graph\n",
    "networkx.draw( all_relations_nx, node_color = color_values )\n",
    "\n",
    "print( \"network graphing --COMPLETE-- at \" + str( datetime.datetime.now() ) )"
   ]
  },
  {
   "cell_type": "markdown",
   "metadata": {},
   "source": [
    "Admittently, this is not the most informative graph.  There are too many nodes and connections to be able to see any patterners or insigths in the dataset. At best, you might be able to get a rough idea of the relative proportions of employee, award and student nodes (which is not in itself particularly useful since the ties are of different types)."
   ]
  },
  {
   "cell_type": "markdown",
   "metadata": {},
   "source": [
    "### Creating and Plotting a Subgraph\n",
    "\n",
    "- back to [Table of Contents](#Table-of-Contents)\n",
    "\n",
    "We just created a plot of all the Employees, Students, and Awards that are a part of any relationship in our graph database.  Now let's practice plotting subgraphs.\n",
    "\n",
    "To start, here is an example of a Cypher query to filter nodes based on values of properties within the node.  This query retrieves the Node for a particular employee of interest, that with the employeeid of \"90022882\"."
   ]
  },
  {
   "cell_type": "code",
   "execution_count": 13,
   "metadata": {
    "collapsed": false
   },
   "outputs": [
    {
     "data": {
      "text/plain": [
       "[{'e': (dd60962:Employee {employeeid:\"90022882\",position:\"FACULTY\"})}]"
      ]
     },
     "execution_count": 13,
     "metadata": {},
     "output_type": "execute_result"
    }
   ],
   "source": [
    "# This is the employee id of an employee I would like to search for. It is saved into a variable, employee_id_parameter \n",
    "employee_id_parameter = '90022882'\n",
    "\n",
    "# This Cypher query searches for an employee where the employee id is provided by the parameter, employee_id_parameter \n",
    "# This query translates to,\n",
    "# Find the Node of type Employee where the employee id is equal to the value in the\n",
    "# variable employee_id_parameter. Return that nodes data.\n",
    "\n",
    "query_string = \"MATCH (e:Employee {employeeid: '\"\n",
    "query_string += employee_id_parameter\n",
    "query_string += \"'}) RETURN e;\"\n",
    "\n",
    "graph_db.data( query_string ) "
   ]
  },
  {
   "cell_type": "markdown",
   "metadata": {},
   "source": [
    "#### Exercise - Subsetting a Graph\n",
    "\n",
    "- back to [Table of Contents](#Table-of-Contents)\n",
    "\n",
    "Write a function that:\n",
    "\n",
    "- accepts a specific award number.\n",
    "- finds all the Employees/Students who worked on that award.\n",
    "- plots the graph.\n",
    "- returns this subgraph as a networkx graph object instance.\n",
    "\n",
    "**_Hints_**:\n",
    "- The folowing Cypher query returns the employees and student who worked on the award 'aw1006'\n",
    "\n",
    "        MATCH (n) -[r:WORKED_ON] -> (a:Award {award_num:'aw1006'}) RETURN n,r\n",
    "\n",
    "- see example above for how to include a variable value in a Cypher Query string."
   ]
  },
  {
   "cell_type": "code",
   "execution_count": 14,
   "metadata": {
    "collapsed": false
   },
   "outputs": [
    {
     "name": "stdout",
     "output_type": "stream",
     "text": [
      "  award_award_num person_node_employeeid person_node_position\n",
      "0          aw1501                  29193              STUDENT\n",
      "1          aw1501               90047948              STUDENT\n",
      "2          aw1501               90028906              FACULTY\n"
     ]
    },
    {
     "data": {
      "text/plain": [
       "<networkx.classes.graph.Graph at 0x164513adef0>"
      ]
     },
     "execution_count": 14,
     "metadata": {},
     "output_type": "execute_result"
    },
    {
     "data": {
      "image/png": "[encoded data removed]",
      "text/plain": [
       "<matplotlib.figure.Figure at 0x16450ac8fd0>"
      ]
     },
     "metadata": {},
     "output_type": "display_data"
    }
   ],
   "source": [
    "def employee_peers(award_num):\n",
    "    \n",
    "    \"\"\"\n",
    "    Creates a networkx plot of employees and students that have worked on an award.\n",
    "    \n",
    "    Parameters\n",
    "    ----------\n",
    "    award_num - The award_num of a specifc award, ie aw1006\n",
    "    \n",
    "    Returns \n",
    "    --------\n",
    "    A Networkx graph object of an award and the persons who worked on that award \n",
    "    \n",
    "    \"\"\"\n",
    "    \n",
    "    # declare variables\n",
    "    award = None\n",
    "    query_string = \"\"\n",
    "    query_result = None\n",
    "    worked_on_data_df = None\n",
    "    worked_on_columns = None\n",
    "    employees = None\n",
    "    awards = None\n",
    "    node = None\n",
    "    \n",
    "    # Collect Employees that worked on the requested award. \n",
    " \n",
    "    award = award_num\n",
    "    # This Cypher Query translates to,\n",
    "    # Fins the nodes that have a WORKED_ON relationship with an node of type Award that has the award_num of the value of the \n",
    "    # award variable. Return the employeeid and award number of the found nodes \n",
    "    \n",
    "    # build query string to get all nodes that worked on a particular award\n",
    "    query_string = \"MATCH ( person_node )\"\n",
    "    query_string += \" - [ relation : WORKED_ON ] ->\"\n",
    "    query_string += \" ( award : Award { award_num: '\"\n",
    "    query_string += award\n",
    "    query_string += \"'})\"\n",
    "    query_string += \" RETURN person_node.employeeid, person_node.position, award.award_num\"\n",
    "    #query_string += \" LIMIT 5\"\n",
    "    query_string += \";\"\n",
    "    \n",
    "    # run query\n",
    "    query_result = graph_db.data( query_string ) \n",
    "    \n",
    "    # Convert to DataFrame\n",
    "    worked_on_data_df = pandas.DataFrame( query_result )\n",
    "    \n",
    "    # get columns\n",
    "    worked_on_columns = worked_on_data_df.columns\n",
    "\n",
    "    # break this out - replace periods with underscores in column names\n",
    "    worked_on_columns = worked_on_columns.map(lambda x: x.replace('.', '_') if isinstance( x, six.string_types ) else x)\n",
    "\n",
    "    # place updated columns back in the DataFrame.\n",
    "    worked_on_data_df.columns = worked_on_columns\n",
    "    \n",
    "    pprint.pprint( worked_on_data_df )\n",
    "\n",
    "    # Create the Networkx Graph \n",
    "    worked_on_graph = networkx.from_pandas_dataframe( worked_on_data_df, 'person_node_employeeid', 'award_award_num' )\n",
    "    \n",
    "    # pprint.pprint( worked_on_graph )\n",
    "\n",
    "    # get colors for nodes\n",
    "    worked_on_nodes = worked_on_graph.nodes( data = True )\n",
    "\n",
    "    # The following code is used to keep track of employees vs. award numbers,\n",
    "    # and then to assign colors to nodes of each type in the graph\n",
    "    employees = dict.fromkeys( worked_on_data_df.person_node_employeeid.unique(), 1 )\n",
    "    awards = dict.fromkeys( worked_on_data_df.award_award_num.unique(), 1 )\n",
    "    \n",
    "    # loop over nodes, setting a color value for each.\n",
    "    color_values = []\n",
    "    for node in worked_on_graph.nodes( data = True ):\n",
    "        \n",
    "        # get Node ID\n",
    "        node_id = node[ 0 ]\n",
    "        \n",
    "        # person or award?\n",
    "        if node_id in employees:\n",
    "\n",
    "            color_values.append ('g')  # green\n",
    "\n",
    "        else:\n",
    "        \n",
    "            color_values.append ('r')  # red\n",
    "            \n",
    "        #-- END check to see what type of node --#\n",
    "        \n",
    "    #-- END loop over nodes. --#\n",
    "            \n",
    "    # draw the graph.\n",
    "    networkx.draw( worked_on_graph, node_color = color_values )\n",
    "    \n",
    "    # Return the Graph Object\n",
    "    graph_OUT = worked_on_graph\n",
    "\n",
    "    return graph_OUT\n",
    "\n",
    "#-- END function employee_peers() --#\n",
    "        \n",
    "# Testing the function with the award aw1501\n",
    "employee_peers(\"aw1501\")"
   ]
  },
  {
   "cell_type": "markdown",
   "metadata": {},
   "source": [
    "## Part 3 - Analyzing Networks\n",
    "\n",
    "- back to [Table of Contents](#Table-of-Contents)\n",
    "\n",
    "The networkx module also has built in tools to analyse graphs. The following measurements are used to assess how the nodes are related to each other in the graph database."
   ]
  },
  {
   "cell_type": "markdown",
   "metadata": {
    "collapsed": true
   },
   "source": [
    "### Network Measures \n",
    "\n",
    "- back to [Table of Contents](#Table-of-Contents)\n",
    "\n",
    "The following are some examples of traits of individual nodes and the overall network in a network graph that can be used to characterize network data:\n",
    "\n",
    "- **Degree Centrality ** - counts the number of edges that an individual node has \n",
    "\n",
    "    - Nodes with a high degree of connections usually play an important role in a network\n",
    "    - This can also be looked at in aggregate for all nodes in a graph to get an idea of the overall connectedness of the graph.  For example, calculate the mean and median degree centrality across all nodes to look at how connected a graph is, in general.\n",
    "\n",
    "- **Betweenness ** - indicator of a node's centality in a network. \n",
    "\n",
    "    - Equal to the number of shortest paths from all vertices to all others that pass through that node\n",
    "    - This also can be looked at in aggregate to characterize an entire network.\n",
    "\n",
    "- **Diameter** - The longest shortest path over all pairs of nodes \n",
    "\n",
    "    - Often we want to find the shortest distance between two nodes; the diameter is the longest of these paths \n",
    "     - Nodes that occur on many shortest paths between other nodes in the graph have a high betweenness centrality score\n",
    "\n",
    "- **Cliques ** - A clique is a subset of vertices of an undirected graph such that every two distinct vertices in the clique are adjacent.\n",
    "\n",
    "The functions below are written for your conviencence by http://www.slideshare.net/arnicas/a-quick-and-dirty-intro-to-networkx-and-d3"
   ]
  },
  {
   "cell_type": "code",
   "execution_count": 15,
   "metadata": {
    "collapsed": false,
    "nbgrader": {
     "grade": true,
     "grade_id": "correct_sum_of_squares",
     "locked": true,
     "points": 1,
     "solution": false
    }
   },
   "outputs": [
    {
     "name": "stdout",
     "output_type": "stream",
     "text": [
      "def calculate_degree_centrality() --COMPLETE-- at 2016-09-29 12:05:59.026746\n"
     ]
    }
   ],
   "source": [
    "def calculate_degree_centrality(graph):\n",
    "    ''' \n",
    "    Calculate degree centrality of a node, sets value on node as attribute; returns graph, and dict of the degree centrality values.\n",
    "\tAlso has code to print the top 10 nodes by degree centrality to console\n",
    "    \n",
    "    Parameters\n",
    "    ----------\n",
    "    graph - A Networkx object Graph \n",
    "\t'''\n",
    "    g = graph\n",
    "    dc = networkx.degree_centrality(g)\n",
    "    networkx.set_node_attributes(g, 'degree_centrality', dc)\n",
    "    degcent_sorted = sorted(dc.items(), key = operator.itemgetter(1), reverse = True)\n",
    "    for key, value in degcent_sorted[0:10]:\n",
    "        print( \"Highest degree Centrality:\" + str( key ) + \" - \" + str( value ) )\n",
    "    return graph, dc \n",
    "\n",
    "print( \"def calculate_degree_centrality() --COMPLETE-- at \" + str( datetime.datetime.now() ) )"
   ]
  },
  {
   "cell_type": "code",
   "execution_count": 16,
   "metadata": {
    "collapsed": false
   },
   "outputs": [
    {
     "name": "stdout",
     "output_type": "stream",
     "text": [
      "def calculate_betweenness() --COMPLETE-- at 2016-09-29 12:06:01.710673\n"
     ]
    }
   ],
   "source": [
    "def calculate_betweenness(graph):\n",
    "    ''' \n",
    "    Calculate betweenness centrality of a node, sets value on node as attribute; returns graph, and dict of the betweenness centrality values\n",
    "\n",
    "    Parameters\n",
    "    ----------\n",
    "    graph - A Networkx object Graph \n",
    "    '''\n",
    "    g = graph\n",
    "    bc=networkx.betweenness_centrality(g)\n",
    "    networkx.set_node_attributes(g,'betweenness',bc)\n",
    "    degcent_sorted = sorted(bc.items(), key = operator.itemgetter(1), reverse = True)\n",
    "    for key, value in degcent_sorted[0:10]:\n",
    "        print( \"Highest Betweeness:\" + str( key ) + \" - \" + str( value ) )\n",
    "    return g #, bc\n",
    "\n",
    "print( \"def calculate_betweenness() --COMPLETE-- at \" + str( datetime.datetime.now() ) )"
   ]
  },
  {
   "cell_type": "code",
   "execution_count": 17,
   "metadata": {
    "collapsed": false
   },
   "outputs": [
    {
     "name": "stdout",
     "output_type": "stream",
     "text": [
      "def find_cliques() --COMPLETE-- at 2016-09-29 12:06:04.056248\n"
     ]
    }
   ],
   "source": [
    "def find_cliques(graph):\n",
    "\t''' \n",
    "    Calculate cliques and return as sorted list.  Print sizes of cliques found.\n",
    "    \n",
    "    Parameters\n",
    "    ----------\n",
    "    graph - A Networkx object Graph \n",
    "\t'''\n",
    "\tg = graph\n",
    "\tcl = networkx.find_cliques(g)\n",
    "\tcl = sorted(list( cl ), key=len, reverse=True)\n",
    "\tprint( \"Number of cliques: \" + str( len(cl) ) )\n",
    "\tcl_sizes = [len(c) for c in cl]\n",
    "\tprint( \"Size of cliques:\" + str( cl_sizes ) )\n",
    "\treturn cl\n",
    "\n",
    "print( \"def find_cliques() --COMPLETE-- at \" + str( datetime.datetime.now() ) )"
   ]
  },
  {
   "cell_type": "code",
   "execution_count": 18,
   "metadata": {
    "collapsed": false
   },
   "outputs": [
    {
     "name": "stdout",
     "output_type": "stream",
     "text": [
      "def find_diameter() --COMPLETE-- at 2016-09-29 12:06:04.889873\n"
     ]
    }
   ],
   "source": [
    "def find_diameter(graph):\n",
    "    \"\"\"\n",
    "    Calculate the Diameter of a graph\n",
    "    \n",
    "    Parameters\n",
    "    ----------\n",
    "    graph - A Networkx object Graph    \n",
    "    \"\"\"\n",
    "    diameter = networkx.diameter(graph)\n",
    "    print( \"Diameter: \" + str( diameter ) )\n",
    "    return diameter\n",
    "\n",
    "print( \"def find_diameter() --COMPLETE-- at \" + str( datetime.datetime.now() ) )"
   ]
  },
  {
   "cell_type": "markdown",
   "metadata": {},
   "source": [
    "### Exercise - Calculating Network Metrics\n",
    "\n",
    "- back to [Table of Contents](#Table-of-Contents)\n",
    "\n",
    "Perform some exploritory analysis on the full data. Use the funtions above to:\n",
    "\n",
    "1. Obtain a list of the highest 10 levels of Degree Centrality\n",
    "2. Obtain a list of the highest 10 levels of Betweenness\n",
    "3. The number of cliques and the sizes of those cliques. \n",
    "\n",
    "By looking at these results, what do you think about the shape of the graph? How would you charaterize the relationships in the graph? "
   ]
  },
  {
   "cell_type": "code",
   "execution_count": 19,
   "metadata": {
    "collapsed": false,
    "nbgrader": {
     "grade": true,
     "grade_id": "sum_of_squares_uses_squares",
     "locked": true,
     "points": 1,
     "solution": false
    },
    "scrolled": false
   },
   "outputs": [
    {
     "name": "stdout",
     "output_type": "stream",
     "text": [
      "_________________DEGREE CENTRALITY ________________\n",
      "Highest degree Centrality:(ae741cc:Employee {employeeid:\"90024517\",position:\"FACULTY\"}) - 1.0\n",
      "Highest degree Centrality:(b22d012:Student {employeeid:\"90024517\",position:\"STUDENT\"}) - 0.6000000000000001\n",
      "Highest degree Centrality:(a1ff901:Award {award_num:\"aw1468\"}) - 0.4\n",
      "Highest degree Centrality:(bf70058:Award {award_num:\"aw1257\"}) - 0.4\n",
      "Highest degree Centrality:(d399c20:Student {employeeid:\"20479\",position:\"STUDENT\"}) - 0.2\n",
      "Highest degree Centrality:(ca1d37f:Student {employeeid:\"90022565\",position:\"STUDENT\"}) - 0.2\n",
      "_________________Betweenness ________________\n",
      "Highest Betweeness:(ae741cc:Employee {employeeid:\"90024517\",position:\"FACULTY\"}) - 0.75\n",
      "Highest Betweeness:(b22d012:Student {employeeid:\"90024517\",position:\"STUDENT\"}) - 0.05\n",
      "Highest Betweeness:(a1ff901:Award {award_num:\"aw1468\"}) - 0.0\n",
      "Highest Betweeness:(d399c20:Student {employeeid:\"20479\",position:\"STUDENT\"}) - 0.0\n",
      "Highest Betweeness:(bf70058:Award {award_num:\"aw1257\"}) - 0.0\n",
      "Highest Betweeness:(ca1d37f:Student {employeeid:\"90022565\",position:\"STUDENT\"}) - 0.0\n",
      "_________________Cliques ________________\n",
      "Number of cliques: 4\n",
      "Size of cliques:[3, 3, 2, 2]\n",
      "__________________________________________\n"
     ]
    }
   ],
   "source": [
    "print( \"_________________DEGREE CENTRALITY ________________\" )\n",
    "calculate_degree_centrality( all_relations_nx )\n",
    "print( \"_________________Betweenness ________________\" )\n",
    "calculate_betweenness( all_relations_nx )\n",
    "print( \"_________________Cliques ________________\" )\n",
    "find_cliques( all_relations_nx )\n",
    "print( \"__________________________________________\" )"
   ]
  },
  {
   "cell_type": "markdown",
   "metadata": {},
   "source": [
    "### Exercise - Analyzing a Sub Graph \n",
    "\n",
    "- back to [Table of Contents](#Table-of-Contents)\n",
    "\n",
    "From looking at the measures above, it seems like our graph has a lot of independent units that are not connected to the larger graph. For instances, there are a lot of cliques with length 2. This indicates one employee working on one award. Let's say we are interested in the sub-network where all the nodes are connected. \n",
    "\n",
    "Preform the same exploritory analysis on the subset created below. The subset is the largest connected set of nodes in the graph. \n",
    "\n",
    "Use the funtions above to:\n",
    "\n",
    "1. Obtain a list of the highest 10 levels of Degree Centrality\n",
    "2. Obtain a list of the highest 10 levels of Betweenness\n",
    "3. The number of cliques and the sizes of those cliques\n",
    "4. Find the Diameter of the Subgraph\n",
    "    \n",
    "By looking at these results, what do you think about the shape of the graph? how would you charaterized the relationships in the graph? "
   ]
  },
  {
   "cell_type": "code",
   "execution_count": 20,
   "metadata": {
    "collapsed": false
   },
   "outputs": [
    {
     "name": "stdout",
     "output_type": "stream",
     "text": [
      "Number of Awards: 2\n",
      "Number of Students: 3\n",
      "Number of Faculty: 1\n"
     ]
    },
    {
     "data": {
      "image/png": "[encoded data removed]",
      "text/plain": [
       "<matplotlib.figure.Figure at 0x16451387208>"
      ]
     },
     "metadata": {},
     "output_type": "display_data"
    }
   ],
   "source": [
    "# Create the Subgraph \n",
    "subgraph_generator = max( networkx.connected_components( all_relations_nx ), key = len )\n",
    "\n",
    "subgraph_graph = all_relations_nx.subgraph( subgraph_generator )\n",
    "\n",
    "# Keep track of descriptive counters\n",
    "num_awards = 0\n",
    "num_faculty = 0\n",
    "num_students = 0\n",
    "\n",
    "# visualize the network       \n",
    "\n",
    "# declare variables\n",
    "subgraph_nodes = None\n",
    "color_values = []\n",
    "node_counter = -1\n",
    "node = None\n",
    "py2neo_node = None\n",
    "node_properties_dict = None\n",
    "node_id = 0\n",
    "node_type = None\n",
    "\n",
    "# set colors of nodes:\n",
    "subgraph_nodes = subgraph_graph.nodes( data = True )\n",
    "color_values = calculate_color_values_for_nodes( subgraph_nodes )\n",
    "\n",
    "# loop over nodes to get counts of each type.\n",
    "\n",
    "# use networkx graph.nodes() method to retrieve just list of nodes\n",
    "subgraph_nodes = subgraph_graph.nodes( data = True )\n",
    "\n",
    "# loop over nodes\n",
    "node_counter = 0\n",
    "for node in subgraph_nodes:\n",
    "    \n",
    "    # initialize variables\n",
    "    node_id = 0\n",
    "    node_type = None\n",
    "    \n",
    "    # get the node's properties (still a reference to py2neo.types.Node)\n",
    "    py2neo_node = node[ 0 ]\n",
    "    node_properties_dict = dict( py2neo_node )\n",
    "\n",
    "    #print( \"node[ 0 ] type = \" + str( type( py2neo_node ) ) )\n",
    "    \n",
    "    # Is there an employee ID?\n",
    "    if \"employeeid\" in node_properties_dict:\n",
    "\n",
    "        # yes - it is ID, and also get position.\n",
    "        node_id = node_properties_dict.get( \"employeeid\", None )\n",
    "        node_type = node_properties_dict.get( \"position\", None )\n",
    "\n",
    "    else:\n",
    "\n",
    "        # no employee ID, so award.\n",
    "        node_id = node_properties_dict.get( \"award_num\", None )\n",
    "        node_type = \"AWARD\"\n",
    "        \n",
    "    #-- END check to see if employee ID. --#\n",
    "\n",
    "    # What type?\n",
    "    if node_type == \"FACULTY\":\n",
    "\n",
    "        # FACULTY = green\n",
    "        num_faculty += 1\n",
    "\n",
    "    elif node_type == \"STUDENT\":\n",
    "\n",
    "        # STUDENT = yellow\n",
    "        num_students += 1\n",
    "\n",
    "    else:\n",
    "\n",
    "        # other = AWARD = red\n",
    "        num_awards += 1\n",
    "        \n",
    "    #-- END check to see what type based on position --#\n",
    "    \n",
    "#-- END loop over nodes to get type counts --#\n",
    "        \n",
    "# draw the graph\n",
    "networkx.draw( subgraph_graph, node_color = color_values )\n",
    "\n",
    "# retrieve person data\n",
    "person_data = list(networkx.get_node_attributes( subgraph_graph, 'position' ).values())\n",
    "\n",
    "print( 'Number of Awards: ' + str( num_awards ) )\n",
    "print( 'Number of Students: ' + str( num_students ) )\n",
    "print( 'Number of Faculty: ' + str( num_faculty ) )"
   ]
  },
  {
   "cell_type": "code",
   "execution_count": 21,
   "metadata": {
    "collapsed": false
   },
   "outputs": [
    {
     "name": "stdout",
     "output_type": "stream",
     "text": [
      "_________________DEGREE CENTRALITY ________________\n",
      "Highest degree Centrality:(ae741cc:Employee {employeeid:\"90024517\",position:\"FACULTY\"}) - 1.0\n",
      "Highest degree Centrality:(b22d012:Student {employeeid:\"90024517\",position:\"STUDENT\"}) - 0.6000000000000001\n",
      "Highest degree Centrality:(a1ff901:Award {award_num:\"aw1468\"}) - 0.4\n",
      "Highest degree Centrality:(bf70058:Award {award_num:\"aw1257\"}) - 0.4\n",
      "Highest degree Centrality:(d399c20:Student {employeeid:\"20479\",position:\"STUDENT\"}) - 0.2\n",
      "Highest degree Centrality:(ca1d37f:Student {employeeid:\"90022565\",position:\"STUDENT\"}) - 0.2\n",
      "_________________Betweenness ________________\n",
      "Highest Betweeness:(ae741cc:Employee {employeeid:\"90024517\",position:\"FACULTY\"}) - 0.75\n",
      "Highest Betweeness:(b22d012:Student {employeeid:\"90024517\",position:\"STUDENT\"}) - 0.05\n",
      "Highest Betweeness:(a1ff901:Award {award_num:\"aw1468\"}) - 0.0\n",
      "Highest Betweeness:(d399c20:Student {employeeid:\"20479\",position:\"STUDENT\"}) - 0.0\n",
      "Highest Betweeness:(bf70058:Award {award_num:\"aw1257\"}) - 0.0\n",
      "Highest Betweeness:(ca1d37f:Student {employeeid:\"90022565\",position:\"STUDENT\"}) - 0.0\n",
      "_________________Cliques ________________\n",
      "Number of cliques: 4\n",
      "Size of cliques:[3, 3, 2, 2]\n",
      "_________________Diameter ________________\n",
      "Diameter: 2\n",
      "______________________________________________\n"
     ]
    }
   ],
   "source": [
    "print( \"_________________DEGREE CENTRALITY ________________\" )\n",
    "calculate_degree_centrality( subgraph_graph )\n",
    "print( \"_________________Betweenness ________________\" )\n",
    "calculate_betweenness( subgraph_graph )\n",
    "print( \"_________________Cliques ________________\" )\n",
    "find_cliques( subgraph_graph )\n",
    "print( \"_________________Diameter ________________\" )\n",
    "find_diameter( subgraph_graph )\n",
    "print( \"______________________________________________\" )"
   ]
  },
  {
   "cell_type": "markdown",
   "metadata": {},
   "source": [
    "### Plotting Network Metrics\n",
    "\n",
    "- back to [Table of Contents](#Table-of-Contents)\n",
    "\n",
    "Betweeness and Centrality are both measures on how connnected a node is to its surounding nodes. However, they measure connectiveness in slightly different ways. A Node with high Degree centrality does not nessasarily mean the node also has a high level a Betwennness Centrality.\n",
    "\n",
    "   A node with high betweenness but low degree might indicated that a node's few connections are critical to the shape of the graph\n",
    "\n",
    "   A node with high degree but low betweenness might indicate that a node's connections are redundent and connections can bypass that node\n",
    "    \n",
    "    \n",
    "### Exercise - degree vs. betweeness centrality\n",
    "\n",
    "- back to [Table of Contents](#Table-of-Contents)\n",
    "\n",
    "Run the Cell below to create a scatterplot of betweeness vs centrality of our subgraph"
   ]
  },
  {
   "cell_type": "code",
   "execution_count": 22,
   "metadata": {
    "collapsed": false
   },
   "outputs": [
    {
     "data": {
      "image/png": "[encoded data removed]",
      "text/plain": [
       "<matplotlib.figure.Figure at 0x164523d4940>"
      ]
     },
     "metadata": {},
     "output_type": "display_data"
    }
   ],
   "source": [
    "dc_data = list( networkx.degree_centrality( subgraph_graph ).values() )\n",
    "bw_data = list( networkx.betweenness_centrality( subgraph_graph ).values() )\n",
    "\n",
    "import numpy as np\n",
    "import matplotlib.pyplot as plt\n",
    "\n",
    "x = dc_data\n",
    "y = bw_data\n",
    "\n",
    "plt.scatter(x, y)\n",
    "\n",
    "#title\n",
    "plt.title(\"Betweenness vs Centrality\")\n",
    "\n",
    "#labels\n",
    "plt.xlabel(\"Degree Centrality\")\n",
    "plt.ylabel(\"Betweenness Centrality\")\n",
    "plt.show()"
   ]
  },
  {
   "cell_type": "markdown",
   "metadata": {},
   "source": [
    "## Part 4 - Analysing Graphs\n",
    "\n",
    "- back to [Table of Contents](#Table-of-Contents)\n",
    "\n",
    "### Exercise - function that plots centrality metrics\n",
    "\n",
    "- back to [Table of Contents](#Table-of-Contents)\n",
    "\n",
    "1) Write a function that plots histgrams of the Degree of Centrality and Betweenness for a given graph.  The function should accept a networkx graph as an input parameter and return nothing.\n",
    " \n",
    "2) Use the find_cliques() function to find the number of cliques in the graph \n",
    " \n",
    "3) Based of the graph you created above, the number of cliques, and the histograms of Centrality and Betweenness, how would you discribe the community this graph represents? \n",
    " \n",
    "Hint: Use networkx documentation to find a function that allows you to collect the attributes of a node "
   ]
  },
  {
   "cell_type": "code",
   "execution_count": 23,
   "metadata": {
    "collapsed": false,
    "scrolled": false
   },
   "outputs": [
    {
     "data": {
      "image/png": "[encoded data removed]",
      "text/plain": [
       "<matplotlib.figure.Figure at 0x164524ae390>"
      ]
     },
     "metadata": {},
     "output_type": "display_data"
    },
    {
     "data": {
      "image/png": "[encoded data removed]",
      "text/plain": [
       "<matplotlib.figure.Figure at 0x1644f0df710>"
      ]
     },
     "metadata": {},
     "output_type": "display_data"
    }
   ],
   "source": [
    "# Your soultion should Look somthing Like this \n",
    "\n",
    "def graph_data(graph):\n",
    "    \"\"\"\n",
    "    Creates histograms of the the Degree of Centrality and the Betweenness Centrality \n",
    "    \n",
    "    Parameters\n",
    "    ----------\n",
    "    graph - A Networkx object Graph. Graph nodes must have degree_centrality and betweenness attributes\n",
    "    \n",
    "    \"\"\"\n",
    "    # Create an empty list to hold all of our degree_centrality items  \n",
    "    cen_list = []\n",
    "    # Use the built in function get_node_attributes to collect the degree_centrality for each node\n",
    "    for item in networkx.get_node_attributes(graph, 'degree_centrality'):\n",
    "        cen_list.append(networkx.get_node_attributes(graph, 'degree_centrality')[item])\n",
    "    \n",
    "    # Pass the cen_list to a plt object and plot as a histogram \n",
    "    plt.figure(1)\n",
    "    #title\n",
    "    plt.title(\"Degree Centrality\")\n",
    "\n",
    "    #labels\n",
    "    plt.xlabel(\"Degree Centrality\")\n",
    "    \n",
    "    plt.hist(cen_list)\n",
    "    \n",
    "    # Create an empty list to hold all of our eigen_cent items \n",
    "    bw_list = []\n",
    "    # Use the built in function get_node_attributes to collect the eigen_cent for each node\n",
    "    for item in networkx.get_node_attributes(graph, 'betweenness'):\n",
    "        bw_list.append(networkx.get_node_attributes(graph, 'betweenness')[item])\n",
    "    \n",
    "    # Pass the eig_list to a plt object and plot as a histogram \n",
    "    plt.figure(2)\n",
    "    #title\n",
    "    plt.title(\"Betweeness Centrality\")\n",
    "\n",
    "    #labels\n",
    "    plt.xlabel(\"Betweeness Centrality\")\n",
    "    plt.hist(bw_list)\n",
    "\n",
    "    \n",
    "# Call the function graph_data() on our Networkx graph \n",
    "graph_data( subgraph_graph )\n",
    "\n"
   ]
  },
  {
   "cell_type": "code",
   "execution_count": 24,
   "metadata": {
    "collapsed": false
   },
   "outputs": [
    {
     "name": "stdout",
     "output_type": "stream",
     "text": [
      "Number of cliques: 4\n",
      "Size of cliques:[3, 3, 2, 2]\n"
     ]
    },
    {
     "data": {
      "text/plain": [
       "[[(ae741cc:Employee {employeeid:\"90024517\",position:\"FACULTY\"}),\n",
       "  (b22d012:Student {employeeid:\"90024517\",position:\"STUDENT\"}),\n",
       "  (a1ff901:Award {award_num:\"aw1468\"})],\n",
       " [(ae741cc:Employee {employeeid:\"90024517\",position:\"FACULTY\"}),\n",
       "  (b22d012:Student {employeeid:\"90024517\",position:\"STUDENT\"}),\n",
       "  (bf70058:Award {award_num:\"aw1257\"})],\n",
       " [(ae741cc:Employee {employeeid:\"90024517\",position:\"FACULTY\"}),\n",
       "  (d399c20:Student {employeeid:\"20479\",position:\"STUDENT\"})],\n",
       " [(ae741cc:Employee {employeeid:\"90024517\",position:\"FACULTY\"}),\n",
       "  (ca1d37f:Student {employeeid:\"90022565\",position:\"STUDENT\"})]]"
      ]
     },
     "execution_count": 24,
     "metadata": {},
     "output_type": "execute_result"
    }
   ],
   "source": [
    "# Call the fucntion find_cliques() on our Networkx graph \n",
    "find_cliques( subgraph_graph )"
   ]
  },
  {
   "cell_type": "code",
   "execution_count": null,
   "metadata": {
    "collapsed": true
   },
   "outputs": [],
   "source": []
  }
 ],
 "metadata": {
  "anaconda-cloud": {},
  "celltoolbar": "Create Assignment",
  "kernelspec": {
   "display_name": "Python [Root]",
   "language": "python",
   "name": "Python [Root]"
  },
  "language_info": {
   "codemirror_mode": {
    "name": "ipython",
    "version": 3
   },
   "file_extension": ".py",
   "mimetype": "text/x-python",
   "name": "python",
   "nbconvert_exporter": "python",
   "pygments_lexer": "ipython3",
   "version": "3.5.2"
  }
 },
 "nbformat": 4,
 "nbformat_minor": 0
}
