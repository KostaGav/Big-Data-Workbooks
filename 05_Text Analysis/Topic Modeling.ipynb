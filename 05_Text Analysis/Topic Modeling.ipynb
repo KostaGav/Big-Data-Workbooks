{
 "cells": [
  {
   "cell_type": "markdown",
   "metadata": {
    "nbgrader": {
     "grade": false,
     "locked": false,
     "solution": false
    }
   },
   "source": [
    "# Topic Modeling Using MALLET\n",
    "\n",
    "For this exercise, we will preform text analysis on the data contained in the \"homework\" database. This notebook will walk you through topic modeling NIH abstracts using [MALLET.](http://mallet.cs.umass.edu/topics.php)\n",
    "\n",
    "Before begining, follow the instructions in the Topic Modeling word document to learn how to download Mallet and learn how to find the path to your mallet batch file. \n",
    "\n",
    "## Table of Contents\n",
    "\n",
    "- [Initialization](#Initialization)\n",
    "\n",
    "    - [Imports](#Imports)\n",
    "    - [The `terminal` function](#The-terminal-function)\n",
    "\n",
    "- [Getting Data](#Getting-Data)\n",
    "\n",
    "    - [Exercise 1](#Exercise-1)\n",
    "\n",
    "- [Generating Topics](#Generating-Topics)\n",
    "\n",
    "    - [Exercise 2](#Exercise-2)\n",
    "    - [Exercise 3](#Exercise-3)\n",
    "    - [Exercise 4 - Identifying Topics from Word Clusters](#Exercise-4---Identifying-Topics-from-Word-Clusters)\n",
    "\n",
    "- [Inferring Topics - Extra Credit](#Inferring-Topics---Extra-Credit)\n",
    "\n",
    "    - [Exercise 5 - Extra Credit](#Exercise-5---Extra-Credit)\n",
    "\n",
    "- [Resources for Topic Modeling](#Resources-for-Topic-Modeling)\n",
    "\n",
    "## Initialization\n",
    "\n",
    "* Back to the [Table of Contents](#Table-of-Contents)\n",
    "\n",
    "Before we begin, we'll need to run the following code cells.  The first cell will import the Python libraries we'll be using. The second will define a function, `terminal()`, that we'll use to run commands.\n",
    "\n",
    "### Imports\n",
    "\n",
    "* Back to the [Table of Contents](#Table-of-Contents)\n",
    "\n",
    "Please run the following code cells before proceeding.  The first takes care of importing packages we'll use and pre-loading some data that the Natural Language Toolkit (NLTK) needs for processing:"
   ]
  },
  {
   "cell_type": "code",
   "execution_count": 1,
   "metadata": {
    "collapsed": false
   },
   "outputs": [
    {
     "name": "stdout",
     "output_type": "stream",
     "text": [
      "[nltk_data] Downloading package punkt to\n",
      "[nltk_data]     C:\\Users\\kgavras\\AppData\\Roaming\\nltk_data...\n",
      "[nltk_data]   Package punkt is already up-to-date!\n",
      "[nltk_data] Downloading package stopwords to\n",
      "[nltk_data]     C:\\Users\\kgavras\\AppData\\Roaming\\nltk_data...\n",
      "[nltk_data]   Package stopwords is already up-to-date!\n"
     ]
    },
    {
     "data": {
      "text/plain": [
       "True"
      ]
     },
     "execution_count": 1,
     "metadata": {},
     "output_type": "execute_result"
    }
   ],
   "source": [
    "# Importing the modules we will use in this workbook\n",
    "import subprocess\n",
    "import os\n",
    "import pymysql\n",
    "import string\n",
    "import nltk\n",
    "import re\n",
    "from nltk.corpus import stopwords\n",
    "\n",
    "# download some nltk resources\n",
    "nltk.download( \"punkt\" )\n",
    "nltk.download( \"stopwords\" )"
   ]
  },
  {
   "cell_type": "markdown",
   "metadata": {},
   "source": [
    "### The `terminal` function\n",
    "\n",
    "* Back to the [Table of Contents](#Table-of-Contents)\n",
    "\n",
    "Python can send commands to the operating system's command shell, allowing you to run operating system level commands without having to leave an iPython notebook.  For your convenience, a terminal() function is defined below. The terminal() function accepts a terminal command, runs that command, then outputs the results to a text file.\n",
    "\n",
    "The terminal() function’s signature is:\n",
    "\n",
    "    terminal( commandTokenList, outputFile = \"temp.txt\" )\n",
    "\n",
    "WHERE:\n",
    "\n",
    "- **_commandTokenList_** - is the full operating system command line command you want to run broken into a list of string tokens on each space within the command (spaces not included in the list).  Examples:\n",
    "\n",
    "    - command: `mkdir temp`\n",
    "    \n",
    "        - commandTokenList: [ 'mkdir', 'temp' ]\n",
    "        \n",
    "    - command: `ls -al | grep temp`\n",
    "    \n",
    "        - commandTokenList: [ 'ls', '-al', '|', 'grep', 'temp' ]\n",
    "        \n",
    "    - if there is a back slash ( \"\\\" ) in the middle of a command to show that it continues on the next line, you do not need to include that back slash as a token in the list.\n",
    "    - there are multiple ways to generate this list of tokens:\n",
    "    \n",
    "        1. Make a static list (as seen above):\n",
    "        \n",
    "                command_token_list = [ 'mkdir', 'temp' ]\n",
    "\n",
    "        2. Place your command in a string variable, then use `string.split()` to break the string into a list on spaces:\n",
    "        \n",
    "                my_command = \"ls -al | grep temp\"\n",
    "                command_token_list = my_command.split()\n",
    "                \n",
    "        3. Build up list of tokens one by one:\n",
    "        \n",
    "                command_token_list = []\n",
    "                command_token_list.append( \"ls\" )\n",
    "                command_token_list.append( \"-al\" )\n",
    "                command_token_list.append( \"|\" )\n",
    "                command_token_list.append( \"grep\" )\n",
    "                command_token_list.append( \"temp\" )\n",
    "\n",
    "- **_outputFile_** - is an optional parameter that tells the `terminal()` function where you want to store output from the command.  If you do not specify a file in the call to `terminal()` in the function call, it will write to a file named \"`temp.txt`\" in the current directory.\n",
    "\n",
    "**Note:** The output of this function attempts to capture whether an error occured based on where the command sent its output (either the standard or error output streams).  Terminal commands deal with output in many different ways, however, including sometimes sending error output to the standard output stream, and sometimes sending non-error logging to the error stream.  If there is output, the terminal command will tell you to look at the output file, then will output tags at the end of the message to tell you where the output is from:\n",
    "\n",
    "- \"`[err]`\" = error stream\n",
    "- \"`[standard]`\" = standard stream. "
   ]
  },
  {
   "cell_type": "code",
   "execution_count": 2,
   "metadata": {
    "collapsed": true
   },
   "outputs": [],
   "source": [
    "# and, defining our terminal() function, writes the output to temp.txt,\n",
    "#    unless you change the filename.\n",
    "def terminal( command_token_list_IN, output_file_path_IN = \"temp.txt\", use_shell_IN = False ):\n",
    "    \n",
    "    # return reference\n",
    "    status_OUT = \"\"\n",
    "\n",
    "    # declare variables\n",
    "    output_file = None\n",
    "    pipe = None\n",
    "    text = \"\"\n",
    "    err = \"\"\n",
    "    \n",
    "    # open output file for writing.\n",
    "    with open( output_file_path_IN, 'w' ) as output_file:\n",
    "\n",
    "        # use subprocess.Popen() to call command in token list.\n",
    "        \n",
    "        # use shell? - in Unix, this smooshes all tokens together into a string.\n",
    "        #    Causes problems on mac in Python 3, shouldn't be needed.\n",
    "        if ( use_shell_IN == True ):\n",
    "            pipe = subprocess.Popen( command_token_list_IN, stdout = subprocess.PIPE, stderr = subprocess.PIPE, shell = True )\n",
    "        else:\n",
    "            pipe = subprocess.Popen( command_token_list_IN, stdout = subprocess.PIPE, stderr = subprocess.PIPE )\n",
    "        #-- END check to see if we use shell --#\n",
    "\n",
    "        # get output from resulting pipe.\n",
    "        text, err = pipe.communicate()    \n",
    "        text = text.decode('ascii', 'ignore')\n",
    "        err = err.decode('ascii', 'ignore')\n",
    "\n",
    "        # deal with results - got standard out?\n",
    "        if len( text ) > 2:\n",
    "\n",
    "            # write it to file.\n",
    "            output_file.write(text)\n",
    "\n",
    "        # got standard error?\n",
    "        elif len( err ) > 2:\n",
    "\n",
    "            # write it to file.\n",
    "            output_file.write(err)\n",
    "\n",
    "        else:\n",
    "\n",
    "            print(\"No output returned\")\n",
    "\n",
    "        #-- END check to see what types of output --#\n",
    "\n",
    "        # status\n",
    "        status_OUT = \"terminal() call complete\"\n",
    "\n",
    "        # got any output at all?\n",
    "        if ( ( ( err is not None ) and ( err != \"\" ) ) or ( ( text is not None ) and ( text != \"\" ) ) ):\n",
    "\n",
    "            # yes.  Add a note to look at output file.\n",
    "            status_OUT += \" - see \" + output_file_path_IN + \" for more details\"\n",
    "\n",
    "            # error output?\n",
    "            if ( ( err is not None ) and ( err != \"\" ) ):\n",
    "\n",
    "                # append a flag\n",
    "                status_OUT += \" [err]\"\n",
    "\n",
    "            #-- END check for error messages. --#\n",
    "\n",
    "            # standard output?\n",
    "            if ( ( text is not None ) and ( text != \"\" ) ):\n",
    "\n",
    "                status_OUT += \" [standard]\"\n",
    "\n",
    "            #-- END check to see if any output at all. --#\n",
    "\n",
    "        #-- END check for status message --#\n",
    "        \n",
    "    #-- END output_file with statement --#\n",
    "        \n",
    "    return status_OUT\n",
    "    \n",
    "#-- END function terminal() --#"
   ]
  },
  {
   "cell_type": "markdown",
   "metadata": {},
   "source": [
    "## Getting Data\n",
    "\n",
    "* Back to the [Table of Contents](#Table-of-Contents)\n",
    "\n",
    "We will be using a sample of abstracts from NIH grants stored in the 'TextAnalysis' table in the 'homework' database to explore automated text analysis.\n",
    "\n",
    "This table was created by downloading data from NIH ExPORTER (exporter.nih.gov). \n",
    "\n",
    "For text analysis, we'll be automatically deriving a list of topics based on these abstracts using MALLET, a Java based text analysis tool that makes topic modeling very easy.  MALLET is primarily a command line tool and requires a specific format for its data.  We'll use our `terminal()` function to run it, and we'll be creating appropriately formatted text files for each abstract as part of this exercise.  You can read more about importing data into MALLET [on the MALLET web site's \"Importing Data\" page.](http://mallet.cs.umass.edu/import.php)\n",
    "\n",
    "Let us first create a temporary directory in our home folder using the `terminal()` function.\n",
    "\n",
    "The following `terminal()` call will invoke the \"`mkdir temp`\" command to make a temporary directory named \"`temp`\" in your current working directory. The `terminal()` function will store its output in the default file - \"`temp.txt`\"."
   ]
  },
  {
   "cell_type": "code",
   "execution_count": 3,
   "metadata": {
    "collapsed": false
   },
   "outputs": [
    {
     "name": "stdout",
     "output_type": "stream",
     "text": [
      "Status = terminal() call complete - see temp.txt for more details [err]\n"
     ]
    }
   ],
   "source": [
    "command_token_list = ['mkdir', 'temp']\n",
    "\n",
    "status = terminal( command_token_list )\n",
    "\n",
    "print( \"Status = \" + status )"
   ]
  },
  {
   "cell_type": "markdown",
   "metadata": {},
   "source": [
    "Now lets get ready to retrieve the abstracts and the ids of the grants with which they are associated. Each abstract will be stored in a file with the grant id as the filename.\n",
    "\n",
    "First, we'll need to create a database connection to the \"`homework`\" database:"
   ]
  },
  {
   "cell_type": "code",
   "execution_count": 4,
   "metadata": {
    "collapsed": false
   },
   "outputs": [
    {
     "name": "stdout",
     "output_type": "stream",
     "text": [
      "<pymysql.connections.Connection object at 0x0000024D96C89390>\n"
     ]
    }
   ],
   "source": [
    "# Create MySQL connection\n",
    "user = \"root\"\n",
    "password = \"Galina1992\"\n",
    "database = \"homework\"\n",
    "\n",
    "# invoke the connect() function, passing parameters in variables.\n",
    "db = pymysql.connect( user = user, password = password, database = database )\n",
    "\n",
    "# output basic database connection info.\n",
    "print( db )\n",
    "\n",
    "# create a database cursor.\n",
    "cursor = db.cursor( pymysql.cursors.DictCursor )"
   ]
  },
  {
   "cell_type": "markdown",
   "metadata": {},
   "source": [
    "Next, we'll set up a few functions that we'll use in this exercise.  The first is `writeFile()`, a function that takes in a filename and text, and creates a new file populated with the text.  Run the cell below to define `writeFile()`.\n",
    "\n",
    "The writeFile() function’s signature is:\n",
    "\n",
    "    writeFile( filename, data )\n",
    "\n",
    "WHERE:\n",
    "\n",
    "- **_filename_** - is the name of the file you want to output, optionally combined with the path where you want the file to be output (if you are not writing to the current directory).\n",
    "- **_data_** - is the data you want to be stored in the file.\n",
    "\n",
    "It doesn't return anything.  If there are problems writing the file, Python will throw exceptions.  "
   ]
  },
  {
   "cell_type": "code",
   "execution_count": 5,
   "metadata": {
    "collapsed": true
   },
   "outputs": [],
   "source": [
    "def writeFile( filename, data ):\n",
    "\n",
    "    with open(filename, \"w\") as f:\n",
    "        \n",
    "        f.write(str(data))\n",
    "        \n",
    "    #-- END with (automatically closes file) --#"
   ]
  },
  {
   "cell_type": "markdown",
   "metadata": {},
   "source": [
    "We also wrote a function to do some initial cleaning of the abstract text - `cleanAbstract()`.\n",
    "\n",
    "The `cleanAbstract()` function’s signature is:\n",
    "\n",
    "    cleanAbstract( text )\n",
    "\n",
    "WHERE:\n",
    "\n",
    "- **_text_** - is the text of an abstract you want to clean.\n",
    "\n",
    "This function:\n",
    "\n",
    "- accepts an abstract's text\n",
    "- removes words that would be very common in NIH abstracts, because we dont want them to bias the results\n",
    "- removes stopwords (MALLET can also do that)\n",
    "- removes punctuation\n",
    "- returns the resulting cleaned string\n",
    "\n",
    "Run the cell below to define `cleanAbstract()`."
   ]
  },
  {
   "cell_type": "code",
   "execution_count": 6,
   "metadata": {
    "collapsed": true
   },
   "outputs": [],
   "source": [
    "def cleanAbstract(text):\n",
    "    \n",
    "    # common words to remove\n",
    "    commonWords = ['study', 'project', 'experiment', 'abstract', 'description', 'studies', \\\n",
    "                  'abstracts', 'projects', 'experiments', 'descriptions']\n",
    "\n",
    "    # remove white space.\n",
    "    text = re.sub('[\\n\\t\\r\\f]+', '', text)\n",
    "    \n",
    "    # convert to all lower case.\n",
    "    text = text.lower()\n",
    "    \n",
    "    # break text up into tokens (words)\n",
    "    tokens = nltk.word_tokenize(text)\n",
    "    \n",
    "    # retrieve list of stop words.\n",
    "    stop = stopwords.words('english')\n",
    "\n",
    "    # remove stop words from list of tokens.\n",
    "    tokens = [t for t in tokens if t not in stop]\n",
    "\n",
    "    # remove punctuation from tokens\n",
    "    exclude = set(string.punctuation)\n",
    "    tokenNew=[]\n",
    "    for s in tokens:\n",
    "        snew = ''.join(ch for ch in s if ch not in exclude)\n",
    "        if snew!=\"\":\n",
    "            tokenNew.append(snew)\n",
    "\n",
    "    # remove common words\n",
    "    tokenNew = [t for t in tokenNew if t not in commonWords]\n",
    "\n",
    "    # tie tokens back together.\n",
    "    abstract  = ' '.join(t for t in tokenNew)\n",
    "\n",
    "    return abstract\n",
    "\n",
    "#-- END function cleanAbstract() --#"
   ]
  },
  {
   "cell_type": "markdown",
   "metadata": {},
   "source": [
    "### Exercise 1\n",
    "\n",
    "* Back to the [Table of Contents](#Table-of-Contents)\n",
    "\n",
    "Retrieve the abstracts one by one from the database and write them to text files in the temp directory. For your convenience, the writeFile() function has already been created. You just need to call it with the path to the location you want the file to be stored and the contents of the abstract.\n",
    "\n",
    "You'll be reading the grant application abstracts from the table \"`TextAnalysis`\" in the database \"`homework`\", to which we connected above.  The table `TextAnalysis` has two columns: \"`APPLICATION_ID`\", the ID of the application with which a given abstract was associated; and \"`ABSTRACT_TEXT`\", the full text of that application's abstract.\n",
    "\n",
    "Create a query that SELECTs all of the records in TextAnalysis, and then for each row in the database, retrieve the application ID (column \"`APPLICATION_ID`\") and abstract (column \"`ABSTRACT_TEXT`\") from the row, clean the abstract using the \"`cleanAbstract()`\" function, then write the abstract out as the contents of a text file using the \"`writeFile()`\" function.\n",
    "\n",
    "When writing files, write each to the `temp` directory we created inside the current directory (path is \"./temp\").  Set the name of the files to the application ID from their grant (stored in the \"`APPLICATION_ID`\" column in the `TextAnalysis` database table), followed by \".txt\".\n",
    "\n",
    "So, the combined path and name for a given file (passed to \"`writeFile()`\" in the \"`filename`\" parameter) should be:\n",
    "\n",
    "    ./temp/<application_id>.txt\n",
    "    \n",
    "Again, remember to clean the text using `cleanAbstract()` before you write it out to a file."
   ]
  },
  {
   "cell_type": "code",
   "execution_count": 7,
   "metadata": {
    "collapsed": false,
    "nbgrader": {
     "grade": true,
     "grade_id": "TA_1",
     "locked": false,
     "points": 1,
     "solution": true
    }
   },
   "outputs": [],
   "source": [
    "# First create the query that you need to get the abstracts, excluding null abstracts\n",
    "query = 'SELECT * FROM homework.textanalysis WHERE ABSTRACT_TEXT IS NOT NULL ORDER BY APPLICATION_ID LIMIT 1000;'\n",
    "\n",
    "#Execute the query\n",
    "cursor.execute(query)\n",
    "\n",
    "### BEGIN SOLUTION\n",
    "#Fetch the results one by one and write them to a file\n",
    "row = cursor.fetchone()\n",
    "while (row is not None):\n",
    "    ID = row['APPLICATION_ID']\n",
    "    abstract = row['ABSTRACT_TEXT']\n",
    "    abstract = cleanAbstract(abstract)\n",
    "    filename = './temp/' + str(ID) + \".txt\"\n",
    "    writeFile(filename, abstract)\n",
    "    row = cursor.fetchone()\n",
    "### END SOLUTION\n",
    "\n",
    "# clean up\n",
    "cursor.close()\n",
    "db.close()"
   ]
  },
  {
   "cell_type": "code",
   "execution_count": 8,
   "metadata": {
    "collapsed": false,
    "nbgrader": {
     "grade": true,
     "grade_id": "TA_1_Test1",
     "locked": true,
     "points": 1,
     "solution": false
    }
   },
   "outputs": [
    {
     "name": "stdout",
     "output_type": "stream",
     "text": [
      "adapted applicant s longterm goal understand molecular biochemical immunologic factors contribute pathogenesis enterococcus faecalis efaecium infections special emphasis multiply antibioticresistant enterococci understand interaction bacteria human host defense system give new insights prevent disease due enterococcal infections molecular biochemical concentrate isolating characterizing likely capsular polysaccharides enterococci culminate deterring monosaccharide components linkages antigens electron microscopy using antibodies specific isolated polysaccharides determine materials extracellular capsules immunologic focus whether isolated antigens targets protective immune responses three five serologically distinct antigens purified characterized chemically immunologically mouse peritonitissepsis model neonatal mouse model used evaluate effectiveness antibodies specific capsular polysaccharides prevention enterococcal infections active immunization purified capsule passive protection using capsulespecific antibodies tested models end expect clear understanding occurrence biochemistry immunology capsular polysaccharides enterococci definition role pathogenesis enterococcal infections potential develop immunotherapies prevent infection patient atrisk disease\n"
     ]
    }
   ],
   "source": [
    "# Test to see if file was successfully written\n",
    "f = open('./temp/2887634.txt', 'r')\n",
    "print(f.read())"
   ]
  },
  {
   "cell_type": "markdown",
   "metadata": {},
   "source": [
    "## Generating Topics\n",
    "\n",
    "* Back to the [Table of Contents](#Table-of-Contents)"
   ]
  },
  {
   "cell_type": "markdown",
   "metadata": {},
   "source": [
    "We have now created a number of .txt files in the temp directory, each of which contains a single abstract.  We will be using the set of these abstracts together as a corpus of data for machine learning.\n",
    "\n",
    "Our next task is to transform these individual files into a single file in MALLET format. To achieve this, we will use MALLET's import command. The import command can read in an entire directory, turn it into a MALLET file, and can also strip out common english stopwords. Our command will look something like this:\n",
    "\n",
    "    <path_to_mallet>/mallet import-dir --input path/to/temp/directory --output data.mallet --keep-sequence --remove-stopwords\n",
    "\n",
    "Lets break down this command into each of the separate tokens it contains (where tokens are words separated by spaces):\n",
    "\n",
    "- **`<path_to_mallet>/mallet`** ==> is the path to the MALLET program.  On Windows it will look something like \"`C:\\\\mallet\\\\bin\\\\mallet`\".  On Mac, it will look something like \"`/Users/jonathanmorgan/mallet/bin/mallet`\".\n",
    "- **`import-dir`** ==> the first argument to the program mallet specifies what command the program is being asked to do.  The `import-dir` command tells MALLET to import an entire directory of files into a MALLET data file.\n",
    "- **`--input`** ==> \"--\" are used in MALLET to signify parameter names, usually followed by a space and a parameter value.  `--input` is a parameter used to tell MALLET the directory in which the corpus of data is located.\n",
    "- **`/path/to/temp/directory`** ==> Path to the directory that contains the corpus of data (the value for the parameter `--input`).\n",
    "- **`--output`** ==> tells MALLET where to store the output\n",
    "- **`data.mallet`** ==> name of file we'll store the MALLET data in (the value for the parameter `--outout`).\n",
    "- **`--keep-sequence`** ==> parameter that tells MALLET to keep the original texts in the order in which they were listed in the directory.  This is an example of a parameter that doesn't have an associated value.\n",
    "- **`--remove-stopwords`** ==> parameter that tells MALLET to remove common english stopwords like \"a\", \"an\", and \"the\".  Another parameter with no subsequent value.\n",
    "\n",
    "If you want help with the options available for a given mallet command, you can ask mallet for those options.  To do this, at the command line, run mallet with the command whose options you want to see, followed by \"`--help`\".  So, for example, to see the options for the \"`import-dir`\" command, you'd run:\n",
    "\n",
    "    <path_to_mallet>/mallet import-dir --help\n",
    "    \n",
    "This will output a list of options, what each should contain and what the default is should that option not be specified.  Example output:\n",
    "\n",
    "    jmorgan@ip-172-31-36-239:~$ <path_to_mallet>/mallet import-dir --help\n",
    "    A tool for creating instance lists of FeatureVectors or FeatureSequences from text documents.\n",
    "\n",
    "    --help TRUE|FALSE\n",
    "      Print this command line option usage information.  Give argument of TRUE for longer documentation\n",
    "      Default is false\n",
    "    --prefix-code 'JAVA CODE'\n",
    "      Java code you want run before any other interpreted code.  Note that the text is interpreted without modification, so unlike some other Java code options, you need to include any necessary 'new's when creating objects.\n",
    "      Default is null\n",
    "    --config FILE\n",
    "      Read command option values from a file\n",
    "      Default is null\n",
    "    --input DIR...\n",
    "      The directories containing text files to be classified, one directory per class\n",
    "      Default is (null)\n",
    "    --output FILE\n",
    "      Write the instance list to this file; Using - indicates stdout.\n",
    "      Default is text.vectors\n",
    "    ...\n",
    "    \n",
    "If an option is not present in the list, it isn’t supported for the specified command."
   ]
  },
  {
   "cell_type": "markdown",
   "metadata": {},
   "source": [
    "### Setting the Mallet Path Variable \n",
    "\n",
    "If you followed the instructions in the word document, then you have successfully installed mallet on your computer and identifyed the batch file for your mallet program. Lets save the location of the Mallet batch file to a variable for easy access. \n",
    "\n",
    "We can test the batch file by calling the help otption on a mallet command via our terminal function. "
   ]
  },
  {
   "cell_type": "code",
   "execution_count": 11,
   "metadata": {
    "collapsed": false
   },
   "outputs": [
    {
     "ename": "OSError",
     "evalue": "[WinError 193] %1 ist keine zulässige Win32-Anwendung",
     "output_type": "error",
     "traceback": [
      "\u001b[1;31m---------------------------------------------------------------------------\u001b[0m",
      "\u001b[1;31mOSError\u001b[0m                                   Traceback (most recent call last)",
      "\u001b[1;32m<ipython-input-11-85e19342c252>\u001b[0m in \u001b[0;36m<module>\u001b[1;34m()\u001b[0m\n\u001b[0;32m     19\u001b[0m \u001b[1;33m\u001b[0m\u001b[0m\n\u001b[0;32m     20\u001b[0m \u001b[1;31m# run terminal() on args and print out results.\u001b[0m\u001b[1;33m\u001b[0m\u001b[1;33m\u001b[0m\u001b[0m\n\u001b[1;32m---> 21\u001b[1;33m \u001b[0mprint\u001b[0m\u001b[1;33m(\u001b[0m \u001b[0mterminal\u001b[0m\u001b[1;33m(\u001b[0m \u001b[0margs\u001b[0m \u001b[1;33m)\u001b[0m \u001b[1;33m)\u001b[0m\u001b[1;33m\u001b[0m\u001b[0m\n\u001b[0m",
      "\u001b[1;32m<ipython-input-2-1decef5b4fa4>\u001b[0m in \u001b[0;36mterminal\u001b[1;34m(command_token_list_IN, output_file_path_IN, use_shell_IN)\u001b[0m\n\u001b[0;32m     22\u001b[0m             \u001b[0mpipe\u001b[0m \u001b[1;33m=\u001b[0m \u001b[0msubprocess\u001b[0m\u001b[1;33m.\u001b[0m\u001b[0mPopen\u001b[0m\u001b[1;33m(\u001b[0m \u001b[0mcommand_token_list_IN\u001b[0m\u001b[1;33m,\u001b[0m \u001b[0mstdout\u001b[0m \u001b[1;33m=\u001b[0m \u001b[0msubprocess\u001b[0m\u001b[1;33m.\u001b[0m\u001b[0mPIPE\u001b[0m\u001b[1;33m,\u001b[0m \u001b[0mstderr\u001b[0m \u001b[1;33m=\u001b[0m \u001b[0msubprocess\u001b[0m\u001b[1;33m.\u001b[0m\u001b[0mPIPE\u001b[0m\u001b[1;33m,\u001b[0m \u001b[0mshell\u001b[0m \u001b[1;33m=\u001b[0m \u001b[1;32mTrue\u001b[0m \u001b[1;33m)\u001b[0m\u001b[1;33m\u001b[0m\u001b[0m\n\u001b[0;32m     23\u001b[0m         \u001b[1;32melse\u001b[0m\u001b[1;33m:\u001b[0m\u001b[1;33m\u001b[0m\u001b[0m\n\u001b[1;32m---> 24\u001b[1;33m             \u001b[0mpipe\u001b[0m \u001b[1;33m=\u001b[0m \u001b[0msubprocess\u001b[0m\u001b[1;33m.\u001b[0m\u001b[0mPopen\u001b[0m\u001b[1;33m(\u001b[0m \u001b[0mcommand_token_list_IN\u001b[0m\u001b[1;33m,\u001b[0m \u001b[0mstdout\u001b[0m \u001b[1;33m=\u001b[0m \u001b[0msubprocess\u001b[0m\u001b[1;33m.\u001b[0m\u001b[0mPIPE\u001b[0m\u001b[1;33m,\u001b[0m \u001b[0mstderr\u001b[0m \u001b[1;33m=\u001b[0m \u001b[0msubprocess\u001b[0m\u001b[1;33m.\u001b[0m\u001b[0mPIPE\u001b[0m \u001b[1;33m)\u001b[0m\u001b[1;33m\u001b[0m\u001b[0m\n\u001b[0m\u001b[0;32m     25\u001b[0m         \u001b[1;31m#-- END check to see if we use shell --#\u001b[0m\u001b[1;33m\u001b[0m\u001b[1;33m\u001b[0m\u001b[0m\n\u001b[0;32m     26\u001b[0m \u001b[1;33m\u001b[0m\u001b[0m\n",
      "\u001b[1;32mC:\\Anaconda3\\lib\\subprocess.py\u001b[0m in \u001b[0;36m__init__\u001b[1;34m(self, args, bufsize, executable, stdin, stdout, stderr, preexec_fn, close_fds, shell, cwd, env, universal_newlines, startupinfo, creationflags, restore_signals, start_new_session, pass_fds)\u001b[0m\n\u001b[0;32m    945\u001b[0m                                 \u001b[0mc2pread\u001b[0m\u001b[1;33m,\u001b[0m \u001b[0mc2pwrite\u001b[0m\u001b[1;33m,\u001b[0m\u001b[1;33m\u001b[0m\u001b[0m\n\u001b[0;32m    946\u001b[0m                                 \u001b[0merrread\u001b[0m\u001b[1;33m,\u001b[0m \u001b[0merrwrite\u001b[0m\u001b[1;33m,\u001b[0m\u001b[1;33m\u001b[0m\u001b[0m\n\u001b[1;32m--> 947\u001b[1;33m                                 restore_signals, start_new_session)\n\u001b[0m\u001b[0;32m    948\u001b[0m         \u001b[1;32mexcept\u001b[0m\u001b[1;33m:\u001b[0m\u001b[1;33m\u001b[0m\u001b[0m\n\u001b[0;32m    949\u001b[0m             \u001b[1;31m# Cleanup if the child failed starting.\u001b[0m\u001b[1;33m\u001b[0m\u001b[1;33m\u001b[0m\u001b[0m\n",
      "\u001b[1;32mC:\\Anaconda3\\lib\\subprocess.py\u001b[0m in \u001b[0;36m_execute_child\u001b[1;34m(self, args, executable, preexec_fn, close_fds, pass_fds, cwd, env, startupinfo, creationflags, shell, p2cread, p2cwrite, c2pread, c2pwrite, errread, errwrite, unused_restore_signals, unused_start_new_session)\u001b[0m\n\u001b[0;32m   1222\u001b[0m                                          \u001b[0menv\u001b[0m\u001b[1;33m,\u001b[0m\u001b[1;33m\u001b[0m\u001b[0m\n\u001b[0;32m   1223\u001b[0m                                          \u001b[0mcwd\u001b[0m\u001b[1;33m,\u001b[0m\u001b[1;33m\u001b[0m\u001b[0m\n\u001b[1;32m-> 1224\u001b[1;33m                                          startupinfo)\n\u001b[0m\u001b[0;32m   1225\u001b[0m             \u001b[1;32mfinally\u001b[0m\u001b[1;33m:\u001b[0m\u001b[1;33m\u001b[0m\u001b[0m\n\u001b[0;32m   1226\u001b[0m                 \u001b[1;31m# Child is launched. Close the parent's copy of those pipe\u001b[0m\u001b[1;33m\u001b[0m\u001b[1;33m\u001b[0m\u001b[0m\n",
      "\u001b[1;31mOSError\u001b[0m: [WinError 193] %1 ist keine zulässige Win32-Anwendung"
     ]
    }
   ],
   "source": [
    "# Write the path to your mallet batch file to the PATH_TO_MALLET variable below\n",
    "\n",
    "# Windows example:\n",
    "#PATH_TO_MALLET = \"C:\\\\mallet\\\\bin\\\\mallet\"\n",
    "\n",
    "# Mac example:\n",
    "#PATH_TO_MALLET = \"/Users/jonathanmorgan/mallet/bin/mallet\"\n",
    "\n",
    "PATH_TO_MALLET = \"C:\\\\mallet\\\\bin\\\\mallet\"\n",
    "\n",
    "# Test our PATH_TO_MALLET variable with the Mallet command import-dir and the --help option \n",
    "# If successful, this command will produce the help documenation for the command import-dir\n",
    "args = None\n",
    "\n",
    "# Create list of command words in \"args\".\n",
    "### BEGIN SOLUTION\n",
    "args  = [ PATH_TO_MALLET, 'import-dir', '--help' ]\n",
    "### END SOLUTION\n",
    "\n",
    "# run terminal() on args and print out results.\n",
    "print( terminal( args ) )\n",
    "#Does not work - I will run MALLET from the command line"
   ]
  },
  {
   "cell_type": "markdown",
   "metadata": {},
   "source": [
    "If the command completed successfully, you should see output similar to this in `temp.txt`:\n",
    "\n",
    "    A tool for creating instance lists of FeatureVectors or FeatureSequences from text documents.\n",
    "\n",
    "    --help TRUE|FALSE\n",
    "      Print this command line option usage information.  Give argument of TRUE for longer documentation\n",
    "      Default is false\n",
    "    --prefix-code 'JAVA CODE'\n",
    "      Java code you want run before any other interpreted code.  Note that the text is interpreted without modification, so unlike some other Java code options, you need to include any necessary 'new's when creating objects.\n",
    "      Default is null\n",
    "    --config FILE\n",
    "      Read command option values from a file\n",
    "      Default is null\n",
    "    --input DIR...\n",
    "      The directories containing text files to be classified, one directory per class\n",
    "      Default is (null)\n",
    "    --output FILE\n",
    "      Write the instance list to this file; Using - indicates stdout.\n",
    "      Default is text.vectors\n",
    "    ...\n",
    "\n",
    "_Note: mallet outputs to standard error, not standard out, so even on success, you might see the \"`[err]`\" error indicator at the end of the status._"
   ]
  },
  {
   "cell_type": "markdown",
   "metadata": {},
   "source": [
    "### Exercise 2\n",
    "\n",
    "* Back to the [Table of Contents](#Table-of-Contents)\n",
    "\n",
    "Now use the `terminal()` function to run the MALLET `import-dir` command on your \"`./temp`\" directory.  Remember, the `terminal()` function accepts a list of arguments, with the command to be run the first item in the list, and then subsequent details of the command after, with each space-delimited part of the command an item in this list.  Given the above breakdown of the `import-dir` command, break that command into a list of arguments and invoke the command using `terminal()`, reading from your \"`./temp`\" directory and outputting the resulting MALLET data file to \"`data.mallet`\".\n",
    "\n",
    "- For help with available options for the mallet \"`import-dir`\" command, run the following at the command line:\n",
    "\n",
    "        /bin/mallet/bin/mallet import-dir --help"
   ]
  },
  {
   "cell_type": "code",
   "execution_count": null,
   "metadata": {
    "collapsed": false,
    "nbgrader": {
     "grade": true,
     "grade_id": "TA_2",
     "locked": false,
     "points": 1,
     "solution": true
    }
   },
   "outputs": [],
   "source": [
    "# store argument list in args[]\n",
    "args = None\n",
    "\n",
    "# Create list of command words in \"args\".\n",
    "### BEGIN SOLUTION\n",
    "args  = [ PATH_TO_MALLET,\n",
    "          'import-dir',\n",
    "          '--input',\n",
    "          './/temp//',\n",
    "          '--output',\n",
    "          'data.mallet',\n",
    "          '--keep-sequence',\n",
    "          '--remove-stopwords' ]\n",
    "### END SOLUTION\n",
    "\n",
    "# run terminal() on args and print out results.\n",
    "print( terminal( args ) )"
   ]
  },
  {
   "cell_type": "code",
   "execution_count": 13,
   "metadata": {
    "collapsed": false,
    "nbgrader": {
     "grade": true,
     "grade_id": "TA_2_Test1",
     "locked": true,
     "points": 1,
     "solution": false
    }
   },
   "outputs": [
    {
     "name": "stdout",
     "output_type": "stream",
     "text": [
      "<_io.TextIOWrapper name='./data.mallet' mode='r' encoding='cp1252'>\n"
     ]
    }
   ],
   "source": [
    "# Test to see if file data.mallet was successfully written\n",
    "f = open('./data.mallet', 'r')\n",
    "print(f)"
   ]
  },
  {
   "cell_type": "markdown",
   "metadata": {},
   "source": [
    "If you go to your working directory now, you should find a file named \"`data.mallet`\".  This is the MALLET data file that we will use as input when we ask MALLET to generate topics based on a corpus of text.\n",
    "\n",
    "We will use the `train-topics` command in MALLET to generate our very own topic models.\n",
    "\n",
    "In the following example, we execute this command using its default settings:\n",
    "\n",
    "**_NOTE: the topic modeling in this code cell could take a long time to complete - as long as there is an asterisk in the square brackets to its left (\"In [*]\"), it should still be running.  Give it some time._**"
   ]
  },
  {
   "cell_type": "code",
   "execution_count": null,
   "metadata": {
    "collapsed": false
   },
   "outputs": [],
   "source": [
    "args = [PATH_TO_MALLET, 'train-topics', '--input', 'data.mallet']\n",
    "print( terminal( args, \"mallet-train-default.txt\" ) )\n",
    "#Also does not work. But MALLET is able to run it in the command line"
   ]
  },
  {
   "cell_type": "markdown",
   "metadata": {},
   "source": [
    "This command opens `data.mallet` and repeatedly runs MALLET's topic modeling algorithm on the corpus of documents in  it using default settings, printing out the results as it goes and using the results of each run to train a topic detection model to detect topics based on words used in texts in the corpus.\n",
    "\n",
    "The output of this command is captured by the `terminal()` command and written to a file whose name is in the second argument to the `terminal()` function (if you don't specify a name, it writes to `temp.txt`).  In the example above, we write the output to the file \"`mallet-train-default.txt`\".\n",
    "\n",
    "You can look a this output to get an idea of how MALLET works.  By default, MALLET prints out the keywords that make up the top 10 topics it detects, on every 50th iteration. A good high-level way to judge if the algorithm has converged is to look at this output. Each time it outputs topics, for each of the ten topics, MALLET outputs the topic ID, then a list of the keywords it associates with each topic.  If the keywords it outputs with each topic don't change much between iterations, it means that the model has converged.\n",
    "\n",
    "You can read more about the different options that can be used to fine tune the results [on the MALLET web site's \"Topic Modeling\" page.](http://mallet.cs.umass.edu/topics.php)"
   ]
  },
  {
   "cell_type": "markdown",
   "metadata": {},
   "source": [
    "### Exercise 3\n",
    "\n",
    "* Back to the [Table of Contents](#Table-of-Contents)\n",
    "\n",
    "In the above example, we ran the base topic modeling algorithm but we didn't formally save the output anywhere.  If you look at the documentation pointed to above, it gives you different options to store the output.  Using this documentation as a guide, modify the args for the MALLET \"`train-topics`\" command so that it outputs:\n",
    "\n",
    "- topic keys, stored in file \"`topicKeys.txt`\"\n",
    "- topic composition of documents, stored in file \"`docTopics.txt`\"\n",
    "- a serialized MALLET topic trainer object, stored in file \"`model.mallet`\"\n",
    "\n",
    "Also add the option to:\n",
    "\n",
    "- enable hyperparameter optimization\n",
    "- increase the number of sampling iterations to 20,000\n",
    "- increase the number of topics to 20\n",
    "\n",
    "For help with available options for the mallet \"`train-topics`\" command, run the following at the command line:\n",
    "\n",
    "    /bin/mallet/bin/mallet train-topics --help\n",
    "\n",
    "**_NOTE: the topic modeling in this code cell could take a long time to complete - as long as there is an asterisk in the square brackets to its left (\"In [*]\"), it should still be running.  Give it some time._**"
   ]
  },
  {
   "cell_type": "code",
   "execution_count": null,
   "metadata": {
    "collapsed": false,
    "nbgrader": {
     "grade": true,
     "grade_id": "TA_3",
     "locked": false,
     "points": 1,
     "solution": true
    }
   },
   "outputs": [],
   "source": [
    "# Modify the MALLET command to output topic keys, topic composition of documents, and a serialized MALLET topic trainer object.\n",
    "# Add the option to enable hyperparameter optimization, increase the number of sampling iterations to 20,000,\n",
    "# and increase the number of topics to 20.\n",
    "\n",
    "# store argument list in args[]\n",
    "args = None\n",
    "\n",
    "# Create list of command words in \"args\".\n",
    "### BEGIN SOLUTION\n",
    "args = [ PATH_TO_MALLET,\n",
    "         'train-topics',\n",
    "         '--input', 'data.mallet',\n",
    "         '--optimize-interval', '10',\n",
    "         '--output-topic-keys', 'topicKeys.txt',\n",
    "         '--output-doc-topics', 'docTopics.txt',\n",
    "         '--num-topics', '20',\n",
    "         '--num-iterations', '20000' ]\n",
    "### END SOLUTION\n",
    "\n",
    "# run terminal() on args and print out results.\n",
    "print( terminal( args, \"mallet-train.txt\" ) )\n",
    "#Also ran via the command line"
   ]
  },
  {
   "cell_type": "code",
   "execution_count": 15,
   "metadata": {
    "collapsed": false,
    "nbgrader": {
     "grade": true,
     "grade_id": "TA_3_Test1",
     "locked": true,
     "points": 1,
     "solution": false
    }
   },
   "outputs": [
    {
     "name": "stdout",
     "output_type": "stream",
     "text": [
      "<_io.TextIOWrapper name='./docTopics.txt' mode='r' encoding='cp1252'>\n"
     ]
    }
   ],
   "source": [
    "# Test to see if file data.mallet was successfully written\n",
    "f = open('./docTopics.txt', 'r')\n",
    "print(f)\n",
    "#Worked fine!"
   ]
  },
  {
   "cell_type": "markdown",
   "metadata": {},
   "source": [
    "Now lets look at some results. In addition to the output log file \"`mallet-train.txt`\", your execution of MALLET should have resulted in two output files:\n",
    "\n",
    "- `topicKeys.txt` - a list of the topics detected in the abstracts, along with their weights and the words associated with each.\n",
    "- `docTopics.txt` - for each file in the corpus, lists each of the detected topics and a relavance score that indicates how likely it is that a given abstract relates to that topic.\n",
    "\n",
    "In `topicKeys.txt`, each topic gets a tab-delimited line in the file.  In a given topic's line, the first number is the numeric identifier of the topic (0, 1, 2, etc.), the second number gives an indication of the weight of that topic, and then after a tab, the line is completed with a list of the keywords associated with that topic.  An example (topic 0, weight 0.01502):\n",
    "\n",
    "    14\t0.05863\thealth care cancer data risk patients individuals outcomes genetic disease women testing aging older unreadable lung effects participants intervention community \n",
    "\n",
    "In `docTopics.txt`, each abstract, represented by its file path in the original directory, has a line in the file that lists the topics associated with that article and a relevance score for each topic.  The relevance score runs from 0 to 1, where 0 is not at all relevant and 1 is perfectly related.\n",
    "\n",
    "Some versions of mallet return this list in order of decreasing relevance.  Example:\n",
    "\n",
    "    1\tfile:/home/jmorgan/nbgrader/courses/2015-fall-big_data/source/05.%20Text%20Analysis/./temp/6287560.txt\t14\t0.7923786992036733\t16\t0.10258021829417482\t11\t0.0414781353290313\t12\t0.04106461349323023\t17\t0.020602274154395795\t1\t3.1281525697325206E-4\t7\t2.5520223298362594E-4\t15\t2.0605374283754973E-4\t2\t1.4476870589053855E-4\t18\t1.3480683006926762E-4\t6\t1.216816985277047E-4\t10\t1.0585995154023939E-4\t9\t1.0155273496603757E-4\t5\t9.406085778593105E-5\t3\t8.487431366553085E-5\t19\t7.761498905199808E-5\t0\t7.675511604129449E-5\t13\t7.071872110668556E-5\t4\t5.972207592082584E-5\t8\t4.957229813413215E-5\n",
    "\n",
    "In this example, the abstract with ID 6287560 (found in the file path) is most highly related to topic 14 (our example above) with 0.792... relevance score.\n",
    "\n",
    "Other versions return this list in the same order as the topics appear in the topic keys file (so ordered by topic, not by relevance).  In this case, there won't be a separate number to tell you which topic each relevance score relates to, it will just return the relevance scores for the topics in topic order.  Example:\n",
    "\n",
    "    1\tfile:/home/jmorgan/nbgrader/courses/2015-fall-big_data/source/05.%20Text%20Analysis/./temp/2684103.txt\t0.03553545382628844\t0.004556184536705748\t2.4334164462189633E-4\t1.1439724279769023E-4\t1.4138551716363836E-4\t0.20100441756310541\t0.004705584612794213\t0.2569478012072362\t2.2867147996143538E-4\t0.004627920168093601\t4.564518191869465E-4\t2.591839741549671E-4\t1.611345802214504E-4\t2.0123192028704244E-4\t0.013552954806006491\t1.3957944609142026E-4\t2.3387317923883244E-4\t0.4674210665092099\t3.9696031379911535E-4\t0.009072405653035574\n",
    "    \n",
    "In this example, the abstract with ID 2684103 (found in the file path) is most highly related to topic 18 with 0.467... relevance score.\n",
    "\n",
    "Regardless of format, in aggregate, this output could help you to find connections between documents based on these detected topics that you might not have otherwise noticed."
   ]
  },
  {
   "cell_type": "markdown",
   "metadata": {},
   "source": [
    "### Exercise 4 - Identifying Topics from Word Clusters\n",
    "\n",
    "* Back to the [Table of Contents](#Table-of-Contents)\n",
    "\n",
    "The topics our topic model generated based on the grant abstracts are clusters of words that it thinks are related.  Before we try to apply this model to an abstract not included in testing, however, we should first look more closly at these clusters of words.\n",
    "\n",
    "Just because a set of words are consistently found together across a corpus of training documents doesn't mean that the topic or category represented by those words is meaningful or useful.  In order for a topic or set of topics to be useful, one must understand what underlying concept each topic represents.\n",
    "\n",
    "There are many formal ways to take traits of something and figure out what underlying category sets of these traits represents (see, for example, [Grounded Theory](https://en.wikipedia.org/wiki/Grounded_theory)).\n",
    "\n",
    "Even informally, however, it is a good exercise to look at the sets of traits created by an algorithm like topic modeling and see if you can make sense of the topics it finds (and that is usually a step in any formal process, as well - \"face validity\" - do the topics make sense?).\n",
    "\n",
    "Based on the topics detected and output to `topicKeys.txt`, in the space below, list the topic ID, topic name, and brief description of any of the topics whose words suggest a substantive underlying concept or trait.  If none stand out, look for at least one or two that might, if you just removed a few words, or explain why you think none are meanigful."
   ]
  },
  {
   "cell_type": "markdown",
   "metadata": {},
   "source": [
    "## Inferring Topics - Extra Credit\n",
    "\n",
    "* Back to the [Table of Contents](#Table-of-Contents)\n",
    "\n",
    "You can use your newly trained model to infer topics for unseen documents. Since we got the first 1000 abstracts to train the model, let us use the model to infer topics on the 1001st abstract. We've already retrieved the text for it and placed it in the code cell that follows.  Run the code cell below to assign it to the variable \"`unseenAbstract`\", then create a file out of the abstract in a new work directory, named \"`./infer`\"."
   ]
  },
  {
   "cell_type": "code",
   "execution_count": 16,
   "metadata": {
    "collapsed": false
   },
   "outputs": [
    {
     "name": "stdout",
     "output_type": "stream",
     "text": [
      "No output returned\n"
     ]
    }
   ],
   "source": [
    "unseenAbstract = 'The overall goal of these experiments is to determine the effects of PD-linked mutations on \\\n",
    "the properties of the gene products and to use this information to discover methods to test possible explanations \\\n",
    "for pathogenicity.  We expect that this work will generate new therapeutic strategies for the treatment \\\n",
    "of Parkinson\\'s disease (PD).  Our emphasis will be on protein fibrillogenesis, since fibrillar cytoplasmic \\\n",
    "aggregates, or Lewy bodies, are diagnostic for PD and a major fibrillar component of Lewy bodies is also the \\\n",
    "product of a gene linked to early-onset PD.  Three mutations, in two different genes, encoding alpha-synuclein \\\n",
    "(alphaS) and ubiquitin C-hydrolase (UCH), have been linked to early-onset PD.  We have shown that the two alphaS \\\n",
    "mutations effect the oligomerization properties of the protein; both favor oligomerization.  It is a central goal \\\n",
    "of the proposed research to understand the structural basis for oligomerization and fibrillization and the \\\n",
    "relationship between this process and disease (the latter will require a collaboration between this project \\\n",
    "and project 3).  We are also very interested in the ubiquitin-dependent degradation of alphaS, especially \\\n",
    "since UCH may be involved in that pathway.  Finally, the possibility that mutant UCH may also be a fibrillogenic \\\n",
    "protein is under investigation.  Protein (UCH and alphaS) fibrillization will be a target for medium-throughput \\\n",
    "screening assays to be run in the Center core facility (Core B). A gene linked to juvenile-onset parkinsonism, \\\n",
    "parkin, will be the subject of future biochemical and biophysical investigations.  This protein contains an \\\n",
    "N-terminal ubiquitin homology domain, which suggests its involvement (like UCH) in the degradative process.  \\\n",
    "We intend to characterize wild-type and mutant forms of Parkin.  The fact that this disease is inherited in \\\n",
    "an autosomal recessive manner suggests that gain of function due to toxic oligomers may not be involved. '\n",
    "\n",
    "#Creating a new inference directory\n",
    "terminal(['mkdir', 'infer'])\n",
    "writeFile('./infer/' + \"6302892.txt\", unseenAbstract)"
   ]
  },
  {
   "cell_type": "markdown",
   "metadata": {},
   "source": [
    "Documentation for topic inference can be found in [the Topic Modeling page at the MALLET site.](http://mallet.cs.umass.edu/topics.php)"
   ]
  },
  {
   "cell_type": "markdown",
   "metadata": {},
   "source": [
    "### Exercise 5 - Extra Credit\n",
    "\n",
    "* Back to the [Table of Contents](#Table-of-Contents)\n",
    "\n",
    "Use the MALLET documentation to set up a call to `mallet` to infer topics for the file we just created in the `./infer` folder.\n",
    "\n",
    "#### Step 1: store topic model in a file so it can be re-used\n",
    "\n",
    "First, we provide a mallet command that will re-run our topic model with an additional parameter to output a topic inference model specification to a file named \"`model.mallet`\".  Use the cell below to re-run the model training with the `--inferencer-filename` option set to output a re-usable inferencer to the file \"`model.mallet`\".\n",
    "\n",
    "**_NOTE: Each of the topic modeling steps could take a long time to complete - as long as there is an asterisk in the square brackets to its left (\"In [*]\"), the code in this cell should still be running on the server.  Give it some time._**"
   ]
  },
  {
   "cell_type": "code",
   "execution_count": null,
   "metadata": {
    "collapsed": false
   },
   "outputs": [],
   "source": [
    "# We will first need to rerun our model with the --inferencer-filename option\n",
    "args = [PATH_TO_MALLET, 'train-topics', '--input', 'data.mallet', '--optimize-interval', '10', \\\n",
    "        '--output-topic-keys', 'topicKeys.txt', '--output-doc-topics', 'docTopics.txt', '--num-topics', '20', \\\n",
    "       '--num-iterations', '20000', '--inferencer-filename', 'model.mallet']\n",
    "print( terminal( args, \"mallet-train-inferencer.txt\" ) )\n",
    "#Ran from command line!"
   ]
  },
  {
   "cell_type": "markdown",
   "metadata": {},
   "source": [
    "#### Step 2: Make a new mallet data file for the one abstract\n",
    "\n",
    "Next, you'll create and run a mallet command that executes the `import-dir` command to  create a new MALLET data file named \"`one.mallet`\", based on the contents of your `./infer` directory rather than your `./temp` directory, that will contain the article whose topics you want to infer.  Use the option `--use-pipe-from data.mallet` to specify our original data file as a training file for this corpus.  Make the `terminal()` function call for this command output to the file \"`mallet-infer-data.txt`\".\n",
    "\n",
    "As mentioned in the documenation, make sure that the new data is compatible with your training data. Use the option \"`--use-pipe-from [MALLET TRAINING FILE]`\" (without the square brackets around your training file) in the MALLET command import-dir to specify a training file.\n",
    "\n",
    "- For help with available options for the mallet \"`import-dir`\" command, run the following at the command line:\n",
    "\n",
    "        /bin/mallet/bin/mallet import-dir --help\n",
    "\n",
    "**_NOTE: Each of the topic modeling steps could take a long time to complete - as long as there is an asterisk in the square brackets to its left (\"In [*]\"), the code in this cell should still be running on the server.  Give it some time._**"
   ]
  },
  {
   "cell_type": "code",
   "execution_count": null,
   "metadata": {
    "collapsed": false,
    "nbgrader": {
     "grade": true,
     "grade_id": "TA_5-step2",
     "locked": false,
     "points": 1,
     "solution": true
    }
   },
   "outputs": [],
   "source": [
    "# Use import-dir to pull our one file into a mallet data file.\n",
    "\n",
    "### BEGIN SOLUTION'\n",
    "args = [PATH_TO_MALLET, 'import-dir', '--input', './infer', '--output', 'one.mallet', '--use-pipe-from', \\\n",
    "        'data.mallet']\n",
    "print( terminal( args, \"mallet-infer-data.txt\" ) )\n",
    "### END SOLUTION\n",
    "#Ran from command line!"
   ]
  },
  {
   "cell_type": "markdown",
   "metadata": {},
   "source": [
    "#### Step 3: Infer Topics in Abstract\n",
    "\n",
    "Finally, you'll create and run a mallet command that executes the `infer-topics` command, running for 10,000 iterations, using `one.mallet` as the input, the \"`model.mallet`\" model inferencer we created above as the inferencer, and that outputs the topics for the one abstract to a file named \"`inf-one.txt`\".  Make the `terminal()` function call for this command output to the file \"`mallet-infer-topics.txt`\".\n",
    "\n",
    "- For help with available options for the mallet \"`infer-topics`\" command, run the following at the command line:\n",
    "\n",
    "        /bin/mallet/bin/mallet infer-topics --help\n",
    "\n",
    "**_NOTE: Each of the topic modeling steps could take a long time to complete - as long as there is an asterisk in the square brackets to its left (\"In [*]\"), the code in this cell should still be running on the server.  Give it some time._**"
   ]
  },
  {
   "cell_type": "code",
   "execution_count": null,
   "metadata": {
    "collapsed": false,
    "nbgrader": {
     "grade": true,
     "grade_id": "TA_5-step3",
     "locked": false,
     "points": 1,
     "solution": true
    }
   },
   "outputs": [],
   "source": [
    "# Use the infer-topics command to detect topics in the one abstract by running the\n",
    "#    abstract through the \"model.mallet\" inferencer on it.\n",
    "\n",
    "### BEGIN SOLUTION\n",
    "args = [PATH_TO_MALLET, 'infer-topics', '--input', 'one.mallet', '--inferencer', 'model.mallet', \\\n",
    "  '--output-doc-topics', 'inf-one.txt', '--num-iterations', '10000']\n",
    "print( terminal( args, \"mallet-infer-topics.txt\" ) )\n",
    "\n",
    "# Eventually, since all of the outputs of mallet are tab-delimited, could\n",
    "#    probably read and parse some of these files, verify the output inside.\n",
    "### END SOLUTION"
   ]
  },
  {
   "cell_type": "code",
   "execution_count": 18,
   "metadata": {
    "collapsed": false,
    "nbgrader": {
     "grade": true,
     "grade_id": "TA_5_Test1",
     "locked": true,
     "points": 1,
     "solution": false
    },
    "scrolled": true
   },
   "outputs": [
    {
     "name": "stdout",
     "output_type": "stream",
     "text": [
      "#doc source topic proportion ...\n",
      "0 C:\\Users\\kgavras\\Big-Data-Workbooks-master\\05_Text_Analysis\\infer\\6302892.txt 9 0.34958982790635873 19 0.25864607218815694 17 0.16576266192797878 0 0.07572218185520614 5 0.07510200155725642 10 0.051702359794845165 18 0.008712969054692085 15 0.003531020681089037 16 0.0018074381387941504 8 0.0015819855965196947 6 0.0014056877111112871 14 0.0011903505391196412 1 0.0010675318868931965 2 9.063705992624714E-4 13 8.985045230830245E-4 3 5.701307721539032E-4 12 5.36776367270515E-4 4 5.067552965583073E-4 7 4.2645976808296785E-4 11 3.329138355295055E-4  \n",
      "\n"
     ]
    }
   ],
   "source": [
    "# Test to see if file inf-one.txt was successfully written\n",
    "f = open('./inf-one.txt', 'r')\n",
    "print(f.read())"
   ]
  },
  {
   "cell_type": "markdown",
   "metadata": {},
   "source": [
    "## Resources for Topic Modeling\n",
    "\n",
    "* Back to the [Table of Contents](#Table-of-Contents)\n",
    "\n",
    "Below you will find some tutorials and resources for topic modeling.\n",
    "- [General Introduction to Topic Modeling](https://www.cs.princeton.edu/~blei/papers/Blei2012.pdf)\n",
    "- [Topic Modeling for Humanists](http://www.scottbot.net/HIAL/?p=19113)\n",
    "- [Interpretation of Topic Models](http://www.umiacs.umd.edu/~jbg/docs/nips2009-rtl.pdf)"
   ]
  }
 ],
 "metadata": {
  "anaconda-cloud": {},
  "celltoolbar": "Create Assignment",
  "kernelspec": {
   "display_name": "Python [Root]",
   "language": "python",
   "name": "Python [Root]"
  },
  "language_info": {
   "codemirror_mode": {
    "name": "ipython",
    "version": 3
   },
   "file_extension": ".py",
   "mimetype": "text/x-python",
   "name": "python",
   "nbconvert_exporter": "python",
   "pygments_lexer": "ipython3",
   "version": "3.5.2"
  }
 },
 "nbformat": 4,
 "nbformat_minor": 0
}
